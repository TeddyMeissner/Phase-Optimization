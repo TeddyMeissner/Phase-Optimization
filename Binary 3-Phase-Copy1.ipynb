{
 "cells": [
  {
   "cell_type": "code",
   "execution_count": 115,
   "id": "23b69971",
   "metadata": {},
   "outputs": [],
   "source": [
    "import numpy as np\n",
    "import matplotlib.pyplot as plt\n",
    "import sympy as sy\n",
    "from sympy import diff,solve\n",
    "from itertools import count\n",
    "import math\n",
    "\n",
    "from matplotlib import pyplot as plt\n",
    "from matplotlib.patches import Circle, Wedge, Polygon\n",
    "from matplotlib.collections import PatchCollection\n",
    "\n",
    "import math\n",
    "import matplotlib.patches as patches\n",
    "import pylab"
   ]
  },
  {
   "cell_type": "code",
   "execution_count": 258,
   "id": "2b900796",
   "metadata": {},
   "outputs": [],
   "source": [
    "class three_phase:\n",
    "    \"\"\"\n",
    "    Represents...\n",
    "    \"\"\"\n",
    "    \n",
    "    def __init__(self,g_α,g_β,g_L,phases,A=0):\n",
    "        self.g_α = g_α\n",
    "        self.g_β = g_β\n",
    "        self.g_L = g_L\n",
    "        self.A = A\n",
    "        self.phases = phases\n",
    "\n",
    "    def beta_L(self):\n",
    "        X, x_α, x_β, x_L, z_α, z_β = sy.symbols('X, x_α, x_β, x_L, z_α, z_β')\n",
    "\n",
    "        g_α, g_β, g_L, A = self.g_α, self.g_β, self.g_L, self.A \n",
    "        \n",
    "        eq1 = (-diff(g_L) + diff(g_β))\n",
    "        eq2 = (-diff(g_β) + (g_β - g_L)/(x_β - x_L))\n",
    "        sol = solve((eq1,eq2),[x_β,x_L])\n",
    "\n",
    "        if 0 <= sol[0][0] <= 1:\n",
    "            x_β_,x_L_ = sol[0][0],sol[0][1]\n",
    "        else:\n",
    "            x_β_,x_L_ = sol[1][0],sol[1][1]\n",
    "        z_β_ = (X - x_L_)/(x_β_ - x_L_)\n",
    "        z_L_ = 1 - z_β_\n",
    "        return z_β_*g_β.subs(x_β, x_β_) + z_L_*g_L.subs(x_L, x_L_)\n",
    "    \n",
    "    \n",
    "    def alpha_L(self):\n",
    "        X, x_α, x_β, x_L, z_α, z_β = sy.symbols('X, x_α, x_β, x_L, z_α, z_β')\n",
    "        g_α, g_β, g_L, A = self.g_α, self.g_β, self.g_L, self.A\n",
    "        \n",
    "        eq1 = (-diff(g_L) + diff(g_α))\n",
    "        eq2 = (-diff(g_α) + (g_α - g_L)/(x_α - x_L))\n",
    "        sol = solve((eq1,eq2),[x_α,x_L])\n",
    "        if 0 <= sol[0][0] <= 1:\n",
    "            x_α_,x_L_ = sol[0][0],sol[0][1]\n",
    "        else:\n",
    "            x_α_,x_L_ = sol[1][0],sol[1][1]\n",
    "        x_α_,x_L_ = sol[0][0],sol[0][1]\n",
    "        z_α_ = (X - x_L_)/(x_α_ - x_L_)\n",
    "        z_L_ = 1 - z_α_\n",
    "        return z_α_*g_α.subs(x_α, x_α_) + z_L_*g_L.subs(x_L, x_L_)\n",
    "    \n",
    "    def alpha_beta(self):\n",
    "        X, x_α, x_β, x_L, z_α, z_β = sy.symbols('X, x_α, x_β, x_L, z_α, z_β')\n",
    "        \n",
    "        g_α, g_β, g_L, A = self.g_α, self.g_β, self.g_L, self.A\n",
    "        \n",
    "        eq1 = (-diff(g_α) + diff(g_β))\n",
    "        eq2 = (-diff(g_β) + (g_β - g_α + A*(1-2*(x_α-X)/(x_α-x_β)))/(x_β - x_α))\n",
    "        sol = solve((eq1,eq2),[x_α,x_β])\n",
    "\n",
    "        x_α_,x_β_ = sol[0][0],sol[0][1]\n",
    "        z_α_ = (X - x_β_)/(x_α_ - x_β_)\n",
    "        z_β_ = 1 - z_α_\n",
    "        return z_α_*g_α.subs(x_α,x_α_) + z_β_*g_β.subs(x_β,x_β_) + A*z_α_*z_β_ \n",
    "    \n",
    "    def alpha_beta_L(self): \n",
    "        X, x_α, x_β, x_L, z_α, z_β = sy.symbols('X, x_α, x_β, x_L, z_α, z_β')\n",
    "\n",
    "        g_α, g_β, g_L, A = self.g_α, self.g_β, self.g_L, self.A\n",
    "        \n",
    "        eq1 = (-diff(g_α) + diff(g_β))\n",
    "        eq2 = (-diff(g_β) + diff(g_L))\n",
    "        eq3 = (-diff(g_L) + (g_α - g_L + A*z_β)/(x_α - x_L))\n",
    "        eq4 = (-diff(g_L) + (g_β - g_L + A*z_α)/(x_β - x_L))\n",
    "        eq5 = (X - ((1-z_α-z_β)*x_L + z_α*x_α + z_β*x_β))\n",
    "        sol = solve((eq1,eq2,eq3,eq4,eq5),[x_α,x_β,x_L,z_α,z_β])\n",
    "\n",
    "        if np.size(sol) == 0:\n",
    "            return float('inf')\n",
    "        else:\n",
    "            x_α_,x_β_,x_L_ = sol[0][0],sol[0][1],sol[0][2]\n",
    "            z_α_,z_β_ = sol[0][3],sol[0][4]\n",
    "            z_L_ = 1-z_α_-z_β_\n",
    "        return z_α_*g_α.subs(x_α,x_α_) + z_β_*g_β.subs(x_β,x_β_) + z_L_*g_L.subs(x_L,x_L_) + A*z_α_*z_β_\n",
    "\n",
    "#input the common tangent and 2 free energy functions\n",
    "#returns the feasible boundaries    \n",
    "    def inter_tan_G(self,com_tan,g_1,g_2,x_1,x_2):\n",
    "        X = sy.symbols('X')\n",
    "        \n",
    "        eq1 = (com_tan - g_1.subs(x_1,X))\n",
    "        sol_1 = solve((eq1),[X])\n",
    "        eq2 = (com_tan - g_2.subs(x_2,X))\n",
    "        sol_2 = solve((eq2),[X])\n",
    "        return np.array([sy.re(sol_1[0]), sy.re(sol_2[0])])\n",
    "\n",
    "#Create new common tangents that obey the feasible boundaries\n",
    "# and are infinity elsewhere\n",
    "    def correct_tangent(self,com_tan,intersection_G):\n",
    "        X = sy.symbols('X')\n",
    "        \n",
    "        new_tangent = sy.Piecewise(\n",
    "            (float('inf'),X <= min(intersection_G) -1e-8), #account for some error\n",
    "            (float('inf'),X >= max(intersection_G)+1e-8),\n",
    "            (com_tan,True))\n",
    "        return new_tangent\n",
    "    \n",
    "#Find the boundaries which the common tangents intersect\n",
    "    def intersect_com_tans(self,com_tan_1,com_tan_2):\n",
    "        X = sy.symbols('X')\n",
    "\n",
    "        eq1 = (com_tan_1 - com_tan_2)\n",
    "        sol = np.array(solve((eq1),[X]))\n",
    "        return sol[np.where((sol > 0)&(sol < 1))]\n",
    "\n",
    "    def intersect_abl(self,com_abl,com_al,com_bl): \n",
    "        X = sy.symbols('X')\n",
    "\n",
    "        eq1 = (com_abl - com_al)\n",
    "        sol_1 = solve((eq1),[X])\n",
    "        if np.size(sol_1) == 0:\n",
    "            sol_1 = [float('inf')]\n",
    "        eq2 = (com_abl - com_bl)\n",
    "        sol_2 = solve((eq2),[X])\n",
    "        if np.size(sol_2) == 0:\n",
    "            sol_2 = [float('inf')]\n",
    "        return np.array([sy.re(sol_1[0]), sy.re(sol_2[0])])\n",
    "    \n",
    "    def correct_tangent_abl(self,com_tan,intersect_abl,al_G,bl_G):\n",
    "        X = sy.symbols('X')\n",
    "\n",
    "        if min(al_G) <= intersect_abl[0] <= max(al_G):\n",
    "            new_tangent = sy.Piecewise(\n",
    "                (float('inf'),X <= min(intersect_abl) -1e-8), #account for some error\n",
    "                (float('inf'),X >= max(intersect_abl)+1e-8),\n",
    "                (com_tan,True))\n",
    "        else:\n",
    "            new_tangent = sy.Piecewise(\n",
    "                (float('inf'),X <= 1 ), #account for some error\n",
    "                (float('inf'),X >= 0))\n",
    "        return new_tangent\n",
    "    \n",
    "    ##Find all of the points where a common tangent touches free energies and crosses other common tangents\n",
    "    def important_points(self):\n",
    "        X, x_α, x_β, x_L, z_α, z_β = sy.symbols('X, x_α, x_β, x_L, z_α, z_β')\n",
    "        alpha_L,beta_L,alpha_beta,alpha_beta_L = self.alpha_L(),self.beta_L(),self.alpha_beta(),self.alpha_beta_L()\n",
    "        g_α, g_β, g_L, A = self.g_α, self.g_β, self.g_L, self.A\n",
    "        al_G = self.inter_tan_G(alpha_L,g_α,g_L,x_α,x_L)\n",
    "        bl_G = self.inter_tan_G(beta_L,g_β,g_L,x_β,x_L)\n",
    "        ab_G = self.inter_tan_G(alpha_beta,g_α,g_β,x_α,x_β)\n",
    "        com_bl = self.correct_tangent(beta_L,bl_G)\n",
    "        com_al = self.correct_tangent(alpha_L,al_G)\n",
    "        com_ab = self.correct_tangent(alpha_beta,ab_G)\n",
    "        al_bl = self.intersect_com_tans(com_al,com_bl)\n",
    "        al_ab = self.intersect_com_tans(com_al,com_ab)\n",
    "        ab_bl = self.intersect_com_tans(com_ab,com_bl)\n",
    "        #Handle the three phase last\n",
    "        #First finds the intersections\n",
    "        abl_al_bl = self.intersect_abl(alpha_beta_L,alpha_L,beta_L)\n",
    "        # computes the common tangent in feasible region \n",
    "        com_abl = self.correct_tangent_abl(alpha_beta_L,abl_al_bl,al_G,bl_G)\n",
    "        # #add end points to full grid\n",
    "        ends = np.array([0,1])\n",
    "        grid_start = np.sort(np.concatenate((al_G,bl_G,ab_G,al_bl,al_ab,ab_bl,abl_al_bl)))\n",
    "        grid_start = grid_start[np.where((0 < grid_start)&(1 > grid_start))]\n",
    "        #create full grid to look (1e-# is to account for the minor errors and equal values at a point)\n",
    "        grid_x = np.sort(np.concatenate((grid_start,grid_start*(1-1e-6),grid_start*(1+1e-6),ends)))\n",
    "        self.grid_x = grid_x\n",
    "        self.al_tangent = sy.lambdify(X,com_al)\n",
    "        self.bl_tangent = sy.lambdify(X,com_bl)\n",
    "        self.ab_tangent = sy.lambdify(X,com_ab)\n",
    "        self.abl_tangent = sy.lambdify(X,com_abl) \n",
    "        \n",
    "        return grid_x, self.al_tangent, self.bl_tangent, self.ab_tangent, self.abl_tangent\n",
    "    \n",
    "    def plot_specific_temp(self,Temp,x_lim = [0,0], y_lim = [0,0]):\n",
    "        X, x_α, x_β, x_L, z_α, z_β = sy.symbols('X, x_α, x_β, x_L, z_α, z_β')\n",
    "        g_α, g_β, g_L = self.g_α, self.g_β, self.g_L\n",
    "        self.g_α, self.g_β, self.g_L = self.g_α.subs(T,Temp), self.g_β.subs(T,Temp), self.g_L.subs(T,Temp)\n",
    "        self.important_points()\n",
    "        x_grid = np.linspace(0,1,100)\n",
    "        plt.plot(x_grid, sy.lambdify(x_α,self.g_α)(x_grid),label = 'α')\n",
    "        plt.plot(x_grid, sy.lambdify(x_β,self.g_β)(x_grid), label = 'β')\n",
    "        plt.plot(x_grid, sy.lambdify(x_L,self.g_L)(x_grid), label = 'L')\n",
    "        plt.plot(x_grid, self.al_tangent(x_grid), label = 'αL')\n",
    "        plt.plot(x_grid, self.ab_tangent(x_grid), label = 'αβ')\n",
    "        plt.plot(x_grid, self.bl_tangent(x_grid), label = 'βL')\n",
    "        plt.plot(x_grid, self.abl_tangent(x_grid), label = 'αβL')\n",
    "        plt.title('Temp = ' + str(Temp) + ',A =' + str(self.A) )\n",
    "        plt.xlabel('B Fraction')\n",
    "        plt.ylabel('Gibbs Free energy')\n",
    "        if x_lim[0] != x_lim[1]:\n",
    "            plt.xlim(x_lim)\n",
    "        if x_lim[0] != x_lim[1]:\n",
    "            plt.ylim(y_lim)\n",
    "        plt.legend()\n",
    "        plt.show()\n",
    "        self.g_α, self.g_β, self.g_L = g_α, g_β, g_L \n",
    "\n",
    "        ##Takes in the points and checks the phases of each point\n",
    "    def check_phase(self):\n",
    "        X, x_α, x_β, x_L, z_α, z_β = sy.symbols('X, x_α, x_β, x_L, z_α, z_β')\n",
    "        g_α, g_β, g_L, A = self.g_α, self.g_β, self.g_L, self.A\n",
    "        exit = []\n",
    "        self.important_points()\n",
    "        G_L = sy.lambdify(x_L,g_L)\n",
    "        G_a = sy.lambdify(x_α,g_α)\n",
    "        G_b = sy.lambdify(x_β,g_β)\n",
    "        \n",
    "        for i,val in enumerate(self.grid_x):\n",
    "            L = G_L(val)\n",
    "            a = G_a(val)\n",
    "            b = G_b(val)\n",
    "            al = self.al_tangent(val)\n",
    "            bl = self.bl_tangent(val)\n",
    "            ab = self.ab_tangent(val)\n",
    "            abl = self.abl_tangent(val)\n",
    "            check = np.array([al,bl,ab,abl,a,b,L])\n",
    "            index = np.argmin(check)\n",
    "            exit.append(self.phases[index])\n",
    "        exit = np.array(exit)\n",
    "\n",
    "        exit = exit[self.grid_x>=0]    \n",
    "        self.grid_x = self.grid_x[self.grid_x>=0] \n",
    "\n",
    "        res = {}\n",
    "        for ph in self.phases: \n",
    "            idx = exit == ph\n",
    "            if idx.any():\n",
    "                res[ph] = {'c':[np.min(self.grid_x[idx]),np.max(self.grid_x[idx])]}\n",
    "        \n",
    "        return res\n",
    "    \n",
    "    def full_grid(self,Temp_grid):\n",
    "        full_phases = []\n",
    "        for t in Temp_grid:\n",
    "            g_L = self.g_L\n",
    "            self.g_L = g_L.subs(T,t)\n",
    "            full_phases.append(self.check_phase())\n",
    "            self.g_L = g_L\n",
    "        return full_phases\n",
    "        \n",
    "\n",
    "    ## Take input from full_grid and place into here with correct phases\n",
    "    def organize_phases(self,Temp_grid):\n",
    "        grid = self.full_grid(Temp_grid)\n",
    "        pd = {}\n",
    "        patches = []\n",
    "        for ph in self.phases: \n",
    "            pd[ph] = []\n",
    "            for ii,res in enumerate(grid): \n",
    "                if ph in res.keys():\n",
    "                    pd[ph].append([res[ph]['c'][0],Temp_grid[ii]])\n",
    "                    pd[ph].append([res[ph]['c'][1],Temp_grid[ii]])\n",
    "        return pd\n",
    "    \n",
    "\n",
    "    ##points in the form of the output from organize_phases\n",
    "    def plot_diagram(self,Temp_grid,title = 'Phase plot',xlabel = 'B Fraction',ylabel = 'Temp'):\n",
    "        points = self.organize_phases(Temp_grid)\n",
    "        for ph in self.phases: \n",
    "            pp = points[ph]\n",
    "            if len(pp) > 0:\n",
    "                cent=(sum([p[0] for p in pp])/len(pp),sum([p[1] for p in pp])/len(pp))\n",
    "                # sort by polar angle\n",
    "                pp.sort(key=lambda p: math.atan2(p[1]-cent[1],p[0]-cent[0]))\n",
    "                # plot points\n",
    "                pylab.scatter([p[0] for p in pp],[p[1] for p in pp],label = str(ph))\n",
    "                # plot polyline\n",
    "                pylab.gca().add_patch(patches.Polygon(pp,closed=True,fill=False)) \n",
    "        plt.title(title)\n",
    "        plt.xlabel(xlabel)\n",
    "        plt.ylabel(ylabel)\n",
    "        plt.legend()\n",
    "#         plt.savefig(title)\n",
    "        plt.show()"
   ]
  },
  {
   "cell_type": "code",
   "execution_count": 259,
   "id": "c866180a",
   "metadata": {},
   "outputs": [
    {
     "data": {
      "text/plain": [
       "{'g_α': 40*(x_α - 0.2)**2 + 10,\n",
       " 'g_β': 40*(x_β - 0.8)**2 + 11,\n",
       " 'g_L': -T + 40*(x_L - 0.5)**2 + 12,\n",
       " 'A': array(['αL', 'βL', 'αβ', 'αβL', 'α', 'β', 'L'], dtype='<U3'),\n",
       " 'phases': 1}"
      ]
     },
     "execution_count": 259,
     "metadata": {},
     "output_type": "execute_result"
    }
   ],
   "source": [
    "three_phase(g_α,g_β,g_L,1,phases).__dict__"
   ]
  },
  {
   "cell_type": "code",
   "execution_count": 261,
   "id": "a05c1395",
   "metadata": {},
   "outputs": [],
   "source": [
    "hello = three_phase(g_α,g_β,g_L,phases,A=1)"
   ]
  },
  {
   "cell_type": "code",
   "execution_count": 262,
   "id": "2486eca4",
   "metadata": {},
   "outputs": [
    {
     "data": {
      "image/png": "[encoded data removed]",
      "text/plain": [
       "<Figure size 432x288 with 1 Axes>"
      ]
     },
     "metadata": {
      "needs_background": "light"
     },
     "output_type": "display_data"
    }
   ],
   "source": [
    "hello.plot_specific_temp(1.857,x_lim = [.15,.85],y_lim = [9,12])"
   ]
  },
  {
   "cell_type": "code",
   "execution_count": 263,
   "id": "b1695a64",
   "metadata": {
    "scrolled": false
   },
   "outputs": [
    {
     "data": {
      "image/png": "[encoded data removed]",
      "text/plain": [
       "<Figure size 432x288 with 1 Axes>"
      ]
     },
     "metadata": {
      "needs_background": "light"
     },
     "output_type": "display_data"
    }
   ],
   "source": [
    "hello.plot_diagram(np.linspace(1,3,8))"
   ]
  },
  {
   "cell_type": "code",
   "execution_count": 226,
   "id": "ee23efdf",
   "metadata": {},
   "outputs": [],
   "source": [
    "x_a, x_b, x_L,T = sy.symbols('x_α, x_β, x_L,T')\n",
    "phases = np.array(['αL','βL','αβ','αβL','α','β','L'])\n",
    "\n",
    "\n",
    "x_a0,x_L0,x_b0 = .2,.5,.8\n",
    "b_a,b_L,b_b = 10,12,11\n",
    "a = 40\n",
    "\n",
    "g_α = a*(x_a-x_a0)**2 + b_a\n",
    "g_β = a*(x_b-x_b0)**2 + b_b\n",
    "g_L = a*(x_L-x_L0)**2 + b_L - T"
   ]
  },
  {
   "cell_type": "code",
   "execution_count": 135,
   "id": "699ad44b",
   "metadata": {},
   "outputs": [
    {
     "data": {
      "text/latex": [
       "$\\displaystyle 40 \\left(x_{L} - 0.5\\right)^{2} + 7$"
      ],
      "text/plain": [
       "40*(x_L - 0.5)**2 + 7"
      ]
     },
     "execution_count": 135,
     "metadata": {},
     "output_type": "execute_result"
    }
   ],
   "source": [
    "sy.lambdify(T,g_L)(5)"
   ]
  },
  {
   "cell_type": "code",
   "execution_count": 136,
   "id": "f60e12ba",
   "metadata": {},
   "outputs": [
    {
     "data": {
      "text/latex": [
       "$\\displaystyle 40 \\left(x_{L} - 0.5\\right)^{2} + 7$"
      ],
      "text/plain": [
       "40*(x_L - 0.5)**2 + 7"
      ]
     },
     "execution_count": 136,
     "metadata": {},
     "output_type": "execute_result"
    }
   ],
   "source": [
    "g_L.subs(T,5)"
   ]
  }
 ],
 "metadata": {
  "kernelspec": {
   "display_name": "Python 3 (ipykernel)",
   "language": "python",
   "name": "python3"
  },
  "language_info": {
   "codemirror_mode": {
    "name": "ipython",
    "version": 3
   },
   "file_extension": ".py",
   "mimetype": "text/x-python",
   "name": "python",
   "nbconvert_exporter": "python",
   "pygments_lexer": "ipython3",
   "version": "3.9.12"
  }
 },
 "nbformat": 4,
 "nbformat_minor": 5
}
