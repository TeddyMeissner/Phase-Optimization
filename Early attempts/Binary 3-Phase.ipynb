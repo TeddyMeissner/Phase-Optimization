{
 "cells": [
  {
   "cell_type": "code",
   "execution_count": 4,
   "id": "23b69971",
   "metadata": {},
   "outputs": [],
   "source": [
    "import numpy as np\n",
    "import matplotlib.pyplot as plt\n",
    "import sympy as sy\n",
    "from sympy import diff,solve\n",
    "from itertools import count\n",
    "import math\n",
    "\n",
    "from matplotlib import pyplot as plt\n",
    "from matplotlib.patches import Circle, Wedge, Polygon\n",
    "from matplotlib.collections import PatchCollection"
   ]
  },
  {
   "cell_type": "code",
   "execution_count": 5,
   "id": "33176eeb",
   "metadata": {},
   "outputs": [],
   "source": [
    "def full_grid(g_a,g_b,g_L,T,A = 0):\n",
    "    X, x_a, x_b, x_L, z_a, z_b = sy.symbols('X, x_a, x_b, x_L, z_a, z_b')\n",
    "    \n",
    "    def beta_L(A):\n",
    "        eq1 = (-diff(g_L) + diff(g_b))\n",
    "        eq2 = (-diff(g_b) + (g_b - g_L)/(x_b - x_L))\n",
    "        sol = solve((eq1,eq2),[x_b,x_L])\n",
    "        if 0 <= sol[0][0] <= 1:\n",
    "            x_b_,x_L_ = sol[0][0],sol[0][1]\n",
    "        else:\n",
    "            x_b_,x_L_ = sol[1][0],sol[1][1]\n",
    "        z_b_ = (X - x_L_)/(x_b_ - x_L_)\n",
    "        z_L_ = 1 - z_b_\n",
    "        return z_b_*g_b.subs(x_b, x_b_) + z_L_*g_L.subs(x_L, x_L_)\n",
    "\n",
    "    def alpha_L(A):\n",
    "        eq1 = (-diff(g_L) + diff(g_a))\n",
    "        eq2 = (-diff(g_a) + (g_a - g_L)/(x_a - x_L))\n",
    "        sol = solve((eq1,eq2),[x_a,x_L])\n",
    "        if 0 <= sol[0][0] <= 1:\n",
    "            x_a_,x_L_ = sol[0][0],sol[0][1]\n",
    "        else:\n",
    "            x_a_,x_L_ = sol[1][0],sol[1][1]\n",
    "        x_a_,x_L_ = sol[0][0],sol[0][1]\n",
    "        z_a_ = (X - x_L_)/(x_a_ - x_L_)\n",
    "        z_L_ = 1 - z_a_\n",
    "        return z_a_*g_a.subs(x_a, x_a_) + z_L_*g_L.subs(x_L, x_L_)\n",
    "\n",
    "    def alpha_beta(A):\n",
    "        eq1 = (-diff(g_a) + diff(g_b))\n",
    "        eq2 = (-diff(g_b) + (g_b - g_a + A*(1-2*(x_a-X)/(x_a-x_b)))/(x_b - x_a))\n",
    "        sol = solve((eq1,eq2),[x_a,x_b])\n",
    "\n",
    "        x_a_,x_b_ = sol[0][0],sol[0][1]\n",
    "        z_a_ = (X - x_b_)/(x_a_ - x_b_)\n",
    "        z_b_ = 1 - z_a_\n",
    "        return z_a_*g_a.subs(x_a,x_a_) + z_b_*g_b.subs(x_b,x_b_) + A*z_a_*z_b_ \n",
    "    \n",
    "    def alpha_beta_L(A): #Delete out? \n",
    "        eq1 = (-diff(g_a) + diff(g_b))\n",
    "        eq2 = (-diff(g_b) + diff(g_L))\n",
    "        eq3 = (-diff(g_L) + (g_a - g_L + A*z_b)/(x_a - x_L))\n",
    "        eq4 = (-diff(g_L) + (g_b - g_L + A*z_a)/(x_b - x_L))\n",
    "        eq5 = (X - ((1-z_a-z_b)*x_L + z_a*x_a + z_b*x_b))\n",
    "        sol = solve((eq1,eq2,eq3,eq4,eq5),[x_a,x_b,x_L,z_a,z_b])\n",
    "\n",
    "        if np.size(sol) == 0:\n",
    "            return float('inf')\n",
    "        else:\n",
    "            x_a_,x_b_,x_L_ = sol[0][0],sol[0][1],sol[0][2]\n",
    "            z_a_,z_b_ = sol[0][3],sol[0][4]\n",
    "            z_L_ = 1-z_a_-z_b_\n",
    "        return z_a_*g_a.subs(x_a,x_a_) + z_b_*g_b.subs(x_b,x_b_) + z_L_*g_L.subs(x_L,x_L_) + A*z_a_*z_b_\n",
    "    \n",
    "#input the common tangent and 2 free energy functions\n",
    "#returns the feasible boundaries    \n",
    "    def inter_tan_G(com_tan,g_1,g_2,x_1,x_2):\n",
    "        eq1 = (com_tan - g_1.subs(x_1,X))\n",
    "        sol_1 = solve((eq1),[X])\n",
    "        eq2 = (com_tan - g_2.subs(x_2,X))\n",
    "        sol_2 = solve((eq2),[X])\n",
    "        return np.array([sy.re(sol_1[0]), sy.re(sol_2[0])])\n",
    "\n",
    "#Create new common tangents that obey the feasible boundaries\n",
    "# and are infinity elsewhere\n",
    "    def correct_tangent(com_tan,intersection_G):\n",
    "        new_tangent = sy.Piecewise(\n",
    "            (float('inf'),X <= min(intersection_G) -1e-8), #account for some error\n",
    "            (float('inf'),X >= max(intersection_G)+1e-8),\n",
    "            (com_tan,True))\n",
    "        return new_tangent\n",
    "    \n",
    "#Find the boundaries which the common tangents intersect\n",
    "    def intersect_com_tans(com_tan_1,com_tan_2):\n",
    "        eq1 = (com_tan_1 - com_tan_2)\n",
    "        sol = np.array(solve((eq1),[X]))\n",
    "        return sol[np.where((sol > 0)&(sol < 1))]\n",
    "\n",
    "    def intersect_abl(com_abl,com_al,com_bl): #delete out? \n",
    "        eq1 = (com_abl - com_al)\n",
    "        sol_1 = solve((eq1),[X])\n",
    "        if np.size(sol_1) == 0:\n",
    "            sol_1 = [float('inf')]\n",
    "        eq2 = (com_abl - com_bl)\n",
    "        sol_2 = solve((eq2),[X])\n",
    "        if np.size(sol_2) == 0:\n",
    "            sol_2 = [float('inf')]\n",
    "        return np.array([sy.re(sol_1[0]), sy.re(sol_2[0])])\n",
    "    \n",
    "    def correct_tangent_abl(com_tan,intersect_abl,al_G,bl_G):\n",
    "        if min(al_G) <= intersect_abl[0] <= max(al_G):\n",
    "            new_tangent = sy.Piecewise(\n",
    "                (float('inf'),X <= min(intersect_abl) -1e-8), #account for some error\n",
    "                (float('inf'),X >= max(intersect_abl)+1e-8),\n",
    "                (com_tan,True))\n",
    "        else:\n",
    "            new_tangent = sy.Piecewise(\n",
    "                (float('inf'),X <= 1 ), #account for some error\n",
    "                (float('inf'),X >= 0))\n",
    "        return new_tangent\n",
    "    \n",
    "    ##Find all of the points where a common tangent touches free energies and crosses other common tangents\n",
    "    al_G = inter_tan_G(alpha_L(A),g_a,g_L,x_a,x_L)\n",
    "    bl_G = inter_tan_G(beta_L(A),g_b,g_L,x_b,x_L)\n",
    "    ab_G = inter_tan_G(alpha_beta(A),g_a,g_b,x_a,x_b)\n",
    "    com_bl = correct_tangent(beta_L(A),bl_G)\n",
    "    com_al = correct_tangent(alpha_L(A),al_G)\n",
    "    com_ab = correct_tangent(alpha_beta(A),ab_G)\n",
    "    al_bl = intersect_com_tans(com_al,com_bl)\n",
    "    al_ab = intersect_com_tans(com_al,com_ab)\n",
    "    ab_bl = intersect_com_tans(com_ab,com_bl)\n",
    "    #Handle the three phase last\n",
    "    #First finds the intersections\n",
    "    abl_al_bl = intersect_abl(alpha_beta_L(A),alpha_L(A),beta_L(A))\n",
    "    # computes the common tangent in feasible region \n",
    "    com_abl = correct_tangent_abl(alpha_beta_L(A),abl_al_bl,al_G,bl_G)\n",
    "    # #add end points to full grid\n",
    "    ends = np.array([0,1])\n",
    "    grid_start = np.sort(np.concatenate((al_G,bl_G,ab_G,al_bl,al_ab,ab_bl,abl_al_bl)))\n",
    "    grid_start = grid_start[np.where((0 < grid_start)&(1 > grid_start))]\n",
    "    #create full grid to look (1e-# is to account for the minor errors and equal values at a point)\n",
    "    grid_x = np.sort(np.concatenate((grid_start,grid_start*(1-1e-6),grid_start*(1+1e-6),ends)))\n",
    "\n",
    "    ##Takes in the points and checks the phases of each point\n",
    "    def check_phase(grid_x):\n",
    "        phases = np.array(['αL','βL','αβ','αβL','α','β','L'])\n",
    "        exit = []\n",
    "        G_L = sy.lambdify(x_L,g_L)\n",
    "        G_a = sy.lambdify(x_a,g_a)\n",
    "        G_b = sy.lambdify(x_b,g_b)\n",
    "        al_tangent = sy.lambdify(X,com_al)\n",
    "        bl_tangent = sy.lambdify(X,com_bl)\n",
    "        ab_tangent = sy.lambdify(X,com_ab)\n",
    "        abl_tangent = sy.lambdify(X,com_abl)\n",
    "        for i,val in enumerate(grid_x):\n",
    "            L = G_L(val)\n",
    "            a = G_a(val)\n",
    "            b = G_b(val)\n",
    "            al = al_tangent(val)\n",
    "            bl = bl_tangent(val)\n",
    "            ab = ab_tangent(val)\n",
    "            abl = abl_tangent(val)\n",
    "            check = np.array([al,bl,ab,abl,a,b,L])\n",
    "            index = np.argmin(check)\n",
    "            exit.append(phases[index])\n",
    "        exit = np.array(exit)\n",
    "\n",
    "        exit = exit[grid_x>=0]    \n",
    "        grid_x = grid_x[grid_x>=0] ## NOT SURE IF WE CAN DO THIS SIMPLY LIKE THIS. \n",
    "\n",
    "        res = {}\n",
    "        for ph in phases: \n",
    "            idx = exit == ph\n",
    "            if idx.any():\n",
    "                res[ph] = {'c':[np.min(grid_x[idx]),np.max(grid_x[idx])]}\n",
    "#         res_all.append(res)\n",
    "        \n",
    "        return res\n",
    "    \n",
    "    return check_phase(grid_x), sy.lambdify(X,com_al),sy.lambdify(X,com_bl), sy.lambdify(X,com_ab), sy.lambdify(X,com_abl)"
   ]
  },
  {
   "cell_type": "code",
   "execution_count": 6,
   "id": "bf19cecc",
   "metadata": {},
   "outputs": [],
   "source": [
    "## Take input from full_grid and place into here with correct phases\n",
    "def organize_phases(phases,grid,T_grid):\n",
    "    pd = {}\n",
    "    patches = []\n",
    "    for ph in phases: \n",
    "        pd[ph] = []\n",
    "        for ii,res in enumerate(grid): \n",
    "            if ph in res.keys():\n",
    "                pd[ph].append([res[ph]['c'][0],T_grid[ii]])\n",
    "                pd[ph].append([res[ph]['c'][1],T_grid[ii]])\n",
    "    return pd"
   ]
  },
  {
   "cell_type": "code",
   "execution_count": 7,
   "id": "1265a19d",
   "metadata": {},
   "outputs": [],
   "source": [
    "##points in the form of the output from organize_phases\n",
    "def plot_diagram(phases,points,title = 'Phase plot',xlabel = 'B Fraction',ylabel = 'Temp'):\n",
    "    import math\n",
    "    import matplotlib.patches as patches\n",
    "    import pylab\n",
    "\n",
    "    for ph in phases: \n",
    "        pp = points[ph]\n",
    "        if len(pp) > 0:\n",
    "            cent=(sum([p[0] for p in pp])/len(pp),sum([p[1] for p in pp])/len(pp))\n",
    "            # sort by polar angle\n",
    "            pp.sort(key=lambda p: math.atan2(p[1]-cent[1],p[0]-cent[0]))\n",
    "            # plot points\n",
    "            pylab.scatter([p[0] for p in pp],[p[1] for p in pp],label = str(ph))\n",
    "            # plot polyline\n",
    "            pylab.gca().add_patch(patches.Polygon(pp,closed=True,fill=False)) \n",
    "    plt.title(title)\n",
    "    plt.xlabel(xlabel)\n",
    "    plt.ylabel(ylabel)\n",
    "    plt.legend()\n",
    "    plt.savefig(title)\n",
    "    plt.show()"
   ]
  },
  {
   "cell_type": "code",
   "execution_count": 15,
   "id": "773afb91",
   "metadata": {
    "scrolled": true
   },
   "outputs": [],
   "source": [
    "x_a, x_b, x_L = sy.symbols('x_a, x_b, x_L')\n",
    "phases = np.array(['αL','βL','αβ','αβL','α','β','L'])\n",
    "\n",
    "x_a0,x_L0,x_b0 = .2,.5,.8\n",
    "b_a,b_L,b_b = 10,12,11\n",
    "a = 40\n",
    "# T_grid = np.sort(np.concatenate((np.linspace(1,1.1,3),np.linspace(1.46,1.56,5),np.linspace(1,2.4,8))))\n",
    "T_grid = np.linspace(1,3,8)\n",
    "res_all = []\n",
    "g_a = a*(x_a-x_a0)**2 + b_a\n",
    "g_b = a*(x_b-x_b0)**2 + b_b\n",
    "for i in range(len(T_grid)):\n",
    "    T = T_grid[i]\n",
    "    g_L = a*(x_L-x_L0)**2 + b_L - T\n",
    "    res_all.append(full_grid(g_a,g_b,g_L,T,A = 1)[0])"
   ]
  },
  {
   "cell_type": "code",
   "execution_count": 16,
   "id": "807231e1",
   "metadata": {
    "scrolled": true
   },
   "outputs": [
    {
     "data": {
      "image/png": "[encoded data removed]",
      "text/plain": [
       "<Figure size 432x288 with 1 Axes>"
      ]
     },
     "metadata": {
      "needs_background": "light"
     },
     "output_type": "display_data"
    }
   ],
   "source": [
    "phase_dict = organize_phases(phases,res_all,T_grid)\n",
    "plot_diagram(phases,phase_dict,title = 'A = 4')"
   ]
  },
  {
   "cell_type": "code",
   "execution_count": 12,
   "id": "b5d6aa07",
   "metadata": {
    "scrolled": true
   },
   "outputs": [
    {
     "data": {
      "image/png": "[encoded data removed]",
      "text/plain": [
       "<Figure size 432x288 with 1 Axes>"
      ]
     },
     "metadata": {
      "needs_background": "light"
     },
     "output_type": "display_data"
    }
   ],
   "source": [
    "T = T_grid[3]\n",
    "g_L = a*(x_L-x_L0)**2 + b_L - T\n",
    "tangents = full_grid(g_a,g_b,g_L,T,A = 1)\n",
    "al_tangent,bl_tangent,ab_tangent,abl_tangent = tangents[1],tangents[2],tangents[3],tangents[4]\n",
    "\n",
    "g_a_plot = lambda x_a: a*(x_a-x_a0)**2 + b_a\n",
    "g_b_plot = lambda x_b: a*(x_b-x_b0)**2 + b_b\n",
    "g_L_plot = lambda x_L: a*(x_L-x_L0)**2 + b_L - T\n",
    "x_grid = np.linspace(0,1,100)\n",
    "plt.plot(x_grid, g_a_plot(x_grid),label = 'α')\n",
    "plt.plot(x_grid, g_b_plot(x_grid), label = 'β')\n",
    "plt.plot(x_grid, g_L_plot(x_grid), label = 'L')\n",
    "plt.plot(x_grid, al_tangent(x_grid), label = 'αL')\n",
    "plt.plot(x_grid, ab_tangent(x_grid), label = 'αβ')\n",
    "plt.plot(x_grid, bl_tangent(x_grid), label = 'βL')\n",
    "plt.plot(x_grid, abl_tangent(x_grid), label = 'αβL')\n",
    "plt.title('Temp = ' + str(T) + ',A = 1' )\n",
    "plt.xlabel('B Fraction')\n",
    "plt.ylabel('Gibbs Free energy')\n",
    "plt.ylim(9,12)\n",
    "plt.xlim(0.15,0.85)\n",
    "plt.legend()\n",
    "# plt.savefig('free_energy T = ' + str(int(T*10)) + 'A = 1')\n",
    "plt.show()"
   ]
  },
  {
   "cell_type": "code",
   "execution_count": null,
   "id": "098e7db7",
   "metadata": {},
   "outputs": [],
   "source": []
  },
  {
   "cell_type": "code",
   "execution_count": null,
   "id": "6148eedd",
   "metadata": {},
   "outputs": [],
   "source": []
  },
  {
   "cell_type": "code",
   "execution_count": null,
   "id": "58d98a87",
   "metadata": {},
   "outputs": [],
   "source": []
  },
  {
   "cell_type": "code",
   "execution_count": null,
   "id": "92fa1e22",
   "metadata": {},
   "outputs": [],
   "source": []
  },
  {
   "cell_type": "code",
   "execution_count": null,
   "id": "3d6d6dbe",
   "metadata": {},
   "outputs": [],
   "source": []
  },
  {
   "cell_type": "code",
   "execution_count": 309,
   "id": "773e53f4",
   "metadata": {},
   "outputs": [],
   "source": [
    "def beta_L(A):\n",
    "    eq1 = (-diff(g_L) + diff(g_b))\n",
    "    eq2 = (-diff(g_b) + (g_b - g_L)/(x_b - x_L))\n",
    "    sol = solve((eq1,eq2),[x_b,x_L])\n",
    "    if 0 <= sol[0][0] <= 1:\n",
    "        x_b_,x_L_ = sol[0][0],sol[0][1]\n",
    "    else:\n",
    "        x_b_,x_L_ = sol[1][0],sol[1][1]\n",
    "    z_b_ = (X - x_L_)/(x_b_ - x_L_)\n",
    "    z_L_ = 1 - z_b_\n",
    "    z_a_ = 0\n",
    "    return (z_a_,z_b_,z_L_)\n",
    "\n",
    "\n",
    "def alpha_L(A):\n",
    "    eq1 = (-diff(g_L) + diff(g_a))\n",
    "    eq2 = (-diff(g_a) + (g_a - g_L)/(x_a - x_L))\n",
    "    sol = solve((eq1,eq2),[x_a,x_L])\n",
    "    if 0 <= sol[0][0] <= 1:\n",
    "        x_a_,x_L_ = sol[0][0],sol[0][1]\n",
    "    else:\n",
    "        x_a_,x_L_ = sol[1][0],sol[1][1]\n",
    "    x_a_,x_L_ = sol[0][0],sol[0][1]\n",
    "    z_a_ = (X - x_L_)/(x_a_ - x_L_)\n",
    "    z_L_ = 1 - z_a_\n",
    "    z_b_ = 0\n",
    "    return (z_a_,z_b_,z_L_)\n",
    "\n",
    "def alpha_beta_L(A): #Delete out? \n",
    "    eq1 = (-diff(g_a) + diff(g_b))\n",
    "    eq2 = (-diff(g_b) + diff(g_L))\n",
    "    eq3 = (-diff(g_L) + (g_a - g_L + A*z_b)/(x_a - x_L))\n",
    "    eq4 = (-diff(g_L) + (g_b - g_L + A*z_a)/(x_b - x_L))\n",
    "    eq5 = (X - ((1-z_a-z_b)*x_L + z_a*x_a + z_b*x_b))\n",
    "    sol = solve((eq1,eq2,eq3,eq4,eq5),[x_a,x_b,x_L,z_a,z_b])\n",
    "\n",
    "    if np.size(sol) == 0:\n",
    "        return float('inf')\n",
    "    else:\n",
    "        x_a_,x_b_,x_L_ = sol[0][0],sol[0][1],sol[0][2]\n",
    "        z_a_,z_b_ = sol[0][3],sol[0][4]\n",
    "        z_L_ = 1-z_a_-z_b_\n",
    "    return (z_a_,z_b_,z_L_)"
   ]
  },
  {
   "cell_type": "code",
   "execution_count": 344,
   "id": "afd77393",
   "metadata": {},
   "outputs": [],
   "source": [
    "X,x_a, x_b, x_L, z_a, z_b = sy.symbols('X,x_a, x_b, x_L, z_a, z_b')\n",
    "\n",
    "x_a0,x_L0,x_b0 = .2,.5,.8\n",
    "b_a,b_L,b_b = 10,12,10.5\n",
    "a = 50\n",
    "T = 1.5\n",
    "# T_grid = np.sort(np.concatenate((np.linspace(1.8,1.82,2),np.linspace(1,3,10))))\n",
    "# T_grid = np.linspace(1,2.5,10)\n",
    "res_all = []\n",
    "g_a = a*(x_a-x_a0)**2 + b_a\n",
    "g_b = a*(x_b-x_b0)**2 + b_b\n",
    "g_L = a*(x_L-x_L0)**2 + b_L - T"
   ]
  },
  {
   "cell_type": "code",
   "execution_count": 345,
   "id": "d9983208",
   "metadata": {},
   "outputs": [
    {
     "data": {
      "text/plain": [
       "(1.72222222222222 - 3.33333333333333*X,\n",
       " 0,\n",
       " 3.33333333333333*X - 0.722222222222222)"
      ]
     },
     "execution_count": 345,
     "metadata": {},
     "output_type": "execute_result"
    }
   ],
   "source": [
    "alpha_L(1)"
   ]
  },
  {
   "cell_type": "code",
   "execution_count": 346,
   "id": "348d9d4d",
   "metadata": {},
   "outputs": [
    {
     "data": {
      "text/plain": [
       "(0,\n",
       " 3.33333333333333*X - 1.66666666666667,\n",
       " 2.66666666666667 - 3.33333333333333*X)"
      ]
     },
     "execution_count": 346,
     "metadata": {},
     "output_type": "execute_result"
    }
   ],
   "source": [
    "beta_L(1)"
   ]
  },
  {
   "cell_type": "code",
   "execution_count": 347,
   "id": "5f7b8eb7",
   "metadata": {},
   "outputs": [
    {
     "data": {
      "text/plain": [
       "(1.14705882352941 - 1.76470588235294*X,\n",
       " 1.76470588235294*X - 0.647058823529412,\n",
       " 2.22044604925031e-16*X + 0.5)"
      ]
     },
     "execution_count": 347,
     "metadata": {},
     "output_type": "execute_result"
    }
   ],
   "source": [
    "alpha_beta_L(1) #Liquid amount does not change! "
   ]
  },
  {
   "cell_type": "code",
   "execution_count": 348,
   "id": "477e3c6b",
   "metadata": {},
   "outputs": [
    {
     "data": {
      "text/plain": [
       "(50*(X - 0.5)**2 + 10.5, 50*(X - 0.8)**2 + 10.5, 50*(X - 0.2)**2 + 10)"
      ]
     },
     "execution_count": 348,
     "metadata": {},
     "output_type": "execute_result"
    }
   ],
   "source": [
    "g_L.subs(x_L,X),g_b.subs(x_b,X),g_a.subs(x_a,X)"
   ]
  },
  {
   "cell_type": "code",
   "execution_count": 3,
   "id": "9396f227",
   "metadata": {},
   "outputs": [],
   "source": [
    "def teddy(x):\n",
    "    return x**2"
   ]
  },
  {
   "cell_type": "code",
   "execution_count": 4,
   "id": "dfe6c036",
   "metadata": {},
   "outputs": [
    {
     "data": {
      "text/plain": [
       "9"
      ]
     },
     "execution_count": 4,
     "metadata": {},
     "output_type": "execute_result"
    }
   ],
   "source": [
    "teddy(3)"
   ]
  },
  {
   "cell_type": "code",
   "execution_count": null,
   "id": "b821cd4e",
   "metadata": {},
   "outputs": [],
   "source": []
  }
 ],
 "metadata": {
  "kernelspec": {
   "display_name": "Python 3 (ipykernel)",
   "language": "python",
   "name": "python3"
  },
  "language_info": {
   "codemirror_mode": {
    "name": "ipython",
    "version": 3
   },
   "file_extension": ".py",
   "mimetype": "text/x-python",
   "name": "python",
   "nbconvert_exporter": "python",
   "pygments_lexer": "ipython3",
   "version": "3.9.12"
  }
 },
 "nbformat": 4,
 "nbformat_minor": 5
}
