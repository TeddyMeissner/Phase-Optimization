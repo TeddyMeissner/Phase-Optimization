{
 "cells": [
  {
   "cell_type": "code",
   "execution_count": 1,
   "id": "436da635-8296-4a58-8171-0a9d07720842",
   "metadata": {},
   "outputs": [],
   "source": [
    "import numpy as np\n",
    "import matplotlib.pyplot as plt\n",
    "import sympy as sy\n",
    "from sympy import diff,solve\n",
    "from itertools import count\n",
    "import math\n",
    "\n",
    "from matplotlib import pyplot as plt\n",
    "from matplotlib.patches import Circle, Wedge, Polygon\n",
    "from matplotlib.collections import PatchCollection"
   ]
  },
  {
   "cell_type": "code",
   "execution_count": 2,
   "id": "a3b9ae01-6930-40e4-9e34-ae5d6513b837",
   "metadata": {},
   "outputs": [],
   "source": [
    "def beta_L(A):\n",
    "    eq1 = (-diff(g_L) + diff(g_b))\n",
    "    eq2 = (-diff(g_b) + (g_b - g_L)/(x_b - x_L))\n",
    "    sol = solve((eq1,eq2),[x_b,x_L])\n",
    "\n",
    "    if 0 <= sol[0][0] <= 1:\n",
    "        x_b_,x_L_ = sol[0][0],sol[0][1]\n",
    "    else:\n",
    "        x_b_,x_L_ = sol[1][0],sol[1][1]\n",
    "    z_b_ = (X - x_L_)/(x_b_ - x_L_)\n",
    "    z_L_ = 1 - z_b_\n",
    "    return z_b_*g_b.subs(x_b, x_b_) + z_L_*g_L.subs(x_L, x_L_)\n",
    "\n",
    "def alpha_L(A):\n",
    "    eq1 = (-diff(g_L) + diff(g_a))\n",
    "    eq2 = (-diff(g_a) + (g_a - g_L)/(x_a - x_L))\n",
    "    sol = solve((eq1,eq2),[x_a,x_L])\n",
    "    if 0 <= sol[0][0] <= 1:\n",
    "        x_a_,x_L_ = sol[0][0],sol[0][1]\n",
    "    else:\n",
    "        x_a_,x_L_ = sol[1][0],sol[1][1]\n",
    "    z_a_ = (X - x_L_)/(x_a_ - x_L_)\n",
    "    z_L_ = 1 - z_a_\n",
    "    return z_a_*g_a.subs(x_a, x_a_) + z_L_*g_L.subs(x_L, x_L_)\n",
    "\n",
    "def alpha_beta(A):\n",
    "    eq1 = (-diff(g_a) + diff(g_b))\n",
    "    eq2 = (-diff(g_b) + (g_b - g_a + A*(1-2*(x_a-X)/(x_a-x_b)))/(x_b - x_a))\n",
    "    sol = solve((eq1,eq2),[x_a,x_b])\n",
    "\n",
    "    x_a_,x_b_ = sol[0][0],sol[0][1]\n",
    "    z_a_ = (X - x_b_)/(x_a_ - x_b_)\n",
    "    z_b_ = 1 - z_a_\n",
    "    return z_a_*g_a.subs(x_a,x_a_) + z_b_*g_b.subs(x_b,x_b_) + A*z_a_*z_b_ \n",
    "\n",
    "#input the common tangent and 2 free energy functions\n",
    "#returns the feasible boundaries    \n",
    "def inter_tan_G(com_tan,g_1,g_2,x_1,x_2):\n",
    "    eq1 = (com_tan - g_1.subs(x_1,X))\n",
    "    sol_1 = solve((eq1),[X])\n",
    "    eq2 = (com_tan - g_2.subs(x_2,X))\n",
    "    sol_2 = solve((eq2),[X])\n",
    "    return np.array([sy.re(sol_1[0]), sy.re(sol_2[0])])\n",
    "\n",
    "#Create new common tangents that obey the feasible boundaries\n",
    "# and are infinity elsewhere\n",
    "def correct_tangent(com_tan,intersection_G):\n",
    "    new_tangent = sy.Piecewise(\n",
    "        (float('inf'),X <= min(intersection_G) -1e-8), #account for some error\n",
    "        (float('inf'),X >= max(intersection_G)+1e-8),\n",
    "        (com_tan,True))\n",
    "    return new_tangent\n",
    "\n",
    "#Find the boundaries which the common tangents intersect\n",
    "def intersect_com_tans(com_tan_1,com_tan_2):\n",
    "    eq1 = (com_tan_1 - com_tan_2)\n",
    "    sol = np.array(solve((eq1),[X]))\n",
    "    return sol[np.where((sol > 0)&(sol < 1))]\n",
    "\n",
    "def check_phase(check_points,com_al,com_bl,com_ab):\n",
    "    phases = np.array(['αL','βL','αβ','α','β','L'])\n",
    "    exit = []\n",
    "    G_L = sy.lambdify(x_L,g_L)\n",
    "    G_a = sy.lambdify(x_a,g_a)\n",
    "    G_b = sy.lambdify(x_b,g_b)\n",
    "    al_tangent = sy.lambdify(X,com_al)\n",
    "    bl_tangent = sy.lambdify(X,com_bl)\n",
    "    ab_tangent = sy.lambdify(X,com_ab)\n",
    "    for i,val in enumerate(check_points):\n",
    "        L = G_L(val)\n",
    "        a = G_a(val)\n",
    "        b = G_b(val)\n",
    "        al = al_tangent(val)\n",
    "        bl = bl_tangent(val)\n",
    "        ab = ab_tangent(val)\n",
    "        check = np.array([al,bl,ab,a,b,L])\n",
    "        index = np.argmin(check)\n",
    "        exit.append(phases[index])\n",
    "    return dict(zip(check_points,exit))\n",
    "    \n",
    "#Takes in phases i.e. np.array(['αL','βL','αβ','α','β','L']), and result from check_phase, returns where phase begins\n",
    "def simplify_plot_points(phases,check_phase):\n",
    "    vals = check_phase.values()\n",
    "    keys = check_phase.keys()\n",
    "    indexes = []\n",
    "    for k in range(len(phases)):\n",
    "        zipped = [i for i,j in zip(count(), plotting.values()) if j == phases[k]]\n",
    "        if np.size(zipped) > 0:\n",
    "            indexes.append(min(zipped))\n",
    "    indexes = np.sort(indexes)\n",
    "    return dict(zip(np.asarray(list(keys))[indexes],np.asarray(list(vals))[indexes]))\n",
    "\n",
    "    phases = np.array(['αL','βL','αβ','α','β','L'])\n",
    "\n",
    "    return {T:simplify_plot_points(phases,plotting)}"
   ]
  },
  {
   "cell_type": "code",
   "execution_count": 8,
   "id": "71a9f399",
   "metadata": {},
   "outputs": [],
   "source": [
    "A = 0\n",
    "\n",
    "X, x_a, x_b, x_L, z_a, z_b = sy.symbols('X, x_a, x_b, x_L, z_a, z_b')\n",
    "\n",
    "x_a0,x_L0,x_b0 = .2,.5,.8\n",
    "b_a,b_L,b_b = 10,12,10.5\n",
    "a = 40"
   ]
  },
  {
   "cell_type": "code",
   "execution_count": 9,
   "id": "81560fb0",
   "metadata": {},
   "outputs": [
    {
     "data": {
      "text/latex": [
       "$\\displaystyle 10.6018263238194 - 3.36244532399947 X$"
      ],
      "text/plain": [
       "10.6018263238194 - 3.36244532399947*X"
      ]
     },
     "execution_count": 9,
     "metadata": {},
     "output_type": "execute_result"
    }
   ],
   "source": [
    "alpha_L(A)"
   ]
  },
  {
   "cell_type": "code",
   "execution_count": 10,
   "id": "de26a833",
   "metadata": {},
   "outputs": [
    {
     "data": {
      "image/png": "[encoded data removed]",
      "text/plain": [
       "<Figure size 432x288 with 1 Axes>"
      ]
     },
     "metadata": {
      "needs_background": "light"
     },
     "output_type": "display_data"
    }
   ],
   "source": [
    "#FOR PLOTTING\n",
    "# T = 1\n",
    "T = 1.6\n",
    "# T = 2\n",
    "g_a_plot = lambda x_a: a*(x_a-x_a0)**2 + b_a\n",
    "g_b_plot = lambda x_b: a*(x_b-x_b0)**2 + b_b\n",
    "g_L_plot = lambda x_L: a*(x_L-x_L0)**2 + b_L - T\n",
    "x_grid = np.linspace(0,1,100)\n",
    "plt.plot(x_grid, g_a_plot(x_grid),label = 'α')\n",
    "plt.plot(x_grid, g_b_plot(x_grid), label = 'β')\n",
    "plt.plot(x_grid, g_L_plot(x_grid), label = 'L')\n",
    "# plt.plot(x_grid, al_tangent(x_grid), label = 'αL')\n",
    "# plt.plot(x_grid, ab_tangent(x_grid), label = 'αβ')\n",
    "# plt.plot(x_grid, bl_tangent(x_grid), label = 'βL')\n",
    "plt.title('Temp = ' + str(T) + ', A = ' + str(A))\n",
    "plt.xlabel('B Fraction')\n",
    "plt.ylabel('Gibbs Free energy')\n",
    "plt.ylim(9,14)\n",
    "plt.xlim(0.1,0.9)\n",
    "plt.legend()\n",
    "plt.savefig('1phase free_energy comtan, A=' + str(A))\n",
    "plt.show()"
   ]
  },
  {
   "cell_type": "code",
   "execution_count": null,
   "id": "9a940d01",
   "metadata": {},
   "outputs": [],
   "source": []
  },
  {
   "cell_type": "code",
   "execution_count": null,
   "id": "feaa9d28",
   "metadata": {},
   "outputs": [],
   "source": []
  },
  {
   "cell_type": "code",
   "execution_count": 11,
   "id": "872b5c1f-4c2a-48f4-bee5-a6158b532356",
   "metadata": {},
   "outputs": [],
   "source": [
    "# T_grid = np.sort(np.concatenate((np.linspace(1.75,1.85,5),np.linspace(1,2.5,10))))\n",
    "T_grid = np.linspace(1,3,5)\n",
    "# T_grid = [1]\n",
    "phases = np.array(['αL','βL','αβ','α','β','L'])\n",
    "\n",
    "g_a = a*(x_a-x_a0)**2 + b_a\n",
    "g_b = a*(x_b-x_b0)**2 + b_b\n",
    "\n",
    "# T = T_grid[0]\n",
    "\n",
    "ends = np.array([0,1])\n",
    "\n",
    "res_all = []\n",
    "for i in range(len(T_grid)):\n",
    "    T = T_grid[i]\n",
    "    g_L = a*(x_L-x_L0)**2 + b_L - T\n",
    "\n",
    "\n",
    "    bl_G = inter_tan_G(beta_L(A),g_b,g_L,x_b,x_L)\n",
    "    al_G = inter_tan_G(alpha_L(A),g_a,g_L,x_a,x_L)\n",
    "    ab_G = inter_tan_G(alpha_beta(A),g_a,g_b,x_a,x_b)\n",
    "    com_bl = correct_tangent(beta_L(A),bl_G)\n",
    "    com_al = correct_tangent(alpha_L(A),al_G)\n",
    "    com_ab = correct_tangent(alpha_beta(A),ab_G)\n",
    "    al_bl = intersect_com_tans(com_al,com_bl)\n",
    "    al_ab = intersect_com_tans(com_al,com_ab)\n",
    "    ab_bl = intersect_com_tans(com_ab,com_bl)\n",
    "\n",
    "    grid_start = np.concatenate((al_G,bl_G,ab_G,al_bl,al_ab,ab_bl))\n",
    "\n",
    "    #create full grid to look (1e-# is to account for the minor errors and equal values at a point)\n",
    "    grid_x = np.sort(np.concatenate((grid_start,grid_start*(1-1e-6),grid_start*(1+1e-6),ends)))\n",
    "\n",
    "    exit = []\n",
    "    G_L = sy.lambdify(x_L,g_L)\n",
    "    G_a = sy.lambdify(x_a,g_a)\n",
    "    G_b = sy.lambdify(x_b,g_b)\n",
    "    al_tangent = sy.lambdify(X,com_al)\n",
    "    bl_tangent = sy.lambdify(X,com_bl)\n",
    "    ab_tangent = sy.lambdify(X,com_ab)\n",
    "\n",
    "    for i,val in enumerate(grid_x):\n",
    "        L = G_L(val)\n",
    "        a = G_a(val)\n",
    "        b = G_b(val)\n",
    "        al = al_tangent(val)\n",
    "        bl = bl_tangent(val)\n",
    "        ab = ab_tangent(val)\n",
    "        check = np.array([al,bl,ab,a,b,L])\n",
    "        index = np.argmin(check)\n",
    "        exit.append(phases[index])\n",
    "        \n",
    "    # MARAT'S CODE STARTS HERE\n",
    "    exit = np.array(exit)\n",
    "\n",
    "    exit = exit[grid_x>=0]    \n",
    "    grid_x = grid_x[grid_x>=0] ## NOT SURE IF WE CAN DO THIS SIMPLY LIKE THIS. \n",
    "\n",
    "    res = {}\n",
    "    for ph in phases: \n",
    "        idx = exit == ph\n",
    "        if idx.any():\n",
    "            res[ph] = {'c':[np.min(grid_x[idx]),np.max(grid_x[idx])]}\n",
    "    res_all.append(res)"
   ]
  },
  {
   "cell_type": "code",
   "execution_count": 12,
   "id": "7ad18f8a",
   "metadata": {
    "scrolled": true
   },
   "outputs": [
    {
     "data": {
      "image/png": "[encoded data removed]",
      "text/plain": [
       "<Figure size 432x288 with 1 Axes>"
      ]
     },
     "metadata": {
      "needs_background": "light"
     },
     "output_type": "display_data"
    }
   ],
   "source": [
    "#FOR PLOTTING\n",
    "# T = 1\n",
    "T = T_grid[0]\n",
    "# T = 2\n",
    "g_a_plot = lambda x_a: a*(x_a-x_a0)**2 + b_a\n",
    "g_b_plot = lambda x_b: a*(x_b-x_b0)**2 + b_b\n",
    "g_L_plot = lambda x_L: a*(x_L-x_L0)**2 + b_L - T\n",
    "x_grid = np.linspace(0,1,100)\n",
    "plt.plot(x_grid, g_a_plot(x_grid),label = 'α')\n",
    "plt.plot(x_grid, g_b_plot(x_grid), label = 'β')\n",
    "# plt.plot(x_grid, g_L_plot(x_grid), label = 'L')\n",
    "# plt.plot(x_grid, al_tangent(x_grid), label = 'αL')\n",
    "plt.plot(x_grid, ab_tangent(x_grid), label = 'αβ')\n",
    "# plt.plot(x_grid, bl_tangent(x_grid), label = 'βL')\n",
    "plt.title('Temp = ' + str(T) + ', A = ' + str(A))\n",
    "plt.xlabel('B Fraction')\n",
    "plt.ylabel('Gibbs Free energy')\n",
    "plt.ylim(9,14)\n",
    "plt.xlim(0.1,0.9)\n",
    "plt.legend()\n",
    "plt.savefig('1phase free_energy comtan, A=' + str(A))\n",
    "plt.show()"
   ]
  },
  {
   "cell_type": "code",
   "execution_count": 13,
   "id": "7fe992f8-9039-4702-b2f8-fddb5cff737e",
   "metadata": {},
   "outputs": [],
   "source": [
    "# GROUPING POINTS BY PHASE FIELD\n",
    "pd = {}\n",
    "patches = []\n",
    "for ph in phases: \n",
    "    pd[ph] = []\n",
    "    for ii,res in enumerate(res_all): \n",
    "        if ph in res.keys():\n",
    "            pd[ph].append([res[ph]['c'][0],T_grid[ii]])\n",
    "            pd[ph].append([res[ph]['c'][1],T_grid[ii]])\n",
    "    "
   ]
  },
  {
   "cell_type": "code",
   "execution_count": 14,
   "id": "d0d72ac5",
   "metadata": {},
   "outputs": [
    {
     "data": {
      "image/png": "[encoded data removed]",
      "text/plain": [
       "<Figure size 432x288 with 1 Axes>"
      ]
     },
     "metadata": {
      "needs_background": "light"
     },
     "output_type": "display_data"
    }
   ],
   "source": [
    "import math\n",
    "import matplotlib.patches as patches\n",
    "import pylab\n",
    "\n",
    "for ph in phases: \n",
    "    pp = pd[ph]\n",
    "    cent=(sum([p[0] for p in pp])/len(pp),sum([p[1] for p in pp])/len(pp))\n",
    "    # sort by polar angle\n",
    "    pp.sort(key=lambda p: math.atan2(p[1]-cent[1],p[0]-cent[0]))\n",
    "    # plot points\n",
    "    pylab.scatter([p[0] for p in pp],[p[1] for p in pp],label = str(ph))\n",
    "    # plot polyline\n",
    "    pylab.gca().add_patch(patches.Polygon(pp,closed=True,fill=False)) \n",
    "\n",
    "plt.xlabel('B Fraction')\n",
    "plt.ylabel('Temperature')\n",
    "plt.legend()\n",
    "# plt.savefig('No_stress')\n",
    "plt.show()"
   ]
  },
  {
   "cell_type": "code",
   "execution_count": null,
   "id": "103467d3-2473-48ce-b067-53887ab18c72",
   "metadata": {},
   "outputs": [],
   "source": []
  }
 ],
 "metadata": {
  "kernelspec": {
   "display_name": "base",
   "language": "python",
   "name": "python3"
  },
  "language_info": {
   "codemirror_mode": {
    "name": "ipython",
    "version": 3
   },
   "file_extension": ".py",
   "mimetype": "text/x-python",
   "name": "python",
   "nbconvert_exporter": "python",
   "pygments_lexer": "ipython3",
   "version": "3.9.12"
  },
  "vscode": {
   "interpreter": {
    "hash": "5e317de2eb067e54280a06115eaccd65787b5c64aa5f5ef1b528f939378b9efa"
   }
  }
 },
 "nbformat": 4,
 "nbformat_minor": 5
}
