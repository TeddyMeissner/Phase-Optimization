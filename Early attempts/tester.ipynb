{
 "cells": [
  {
   "cell_type": "code",
   "execution_count": 1,
   "metadata": {},
   "outputs": [],
   "source": [
    "import numpy as np\n",
    "import matplotlib.pyplot as plt\n",
    "import sympy as sy\n",
    "from sympy import diff,solve,solveset\n",
    "import math\n",
    "import matplotlib.patches as patches\n",
    "import pylab"
   ]
  },
  {
   "cell_type": "code",
   "execution_count": 9,
   "metadata": {},
   "outputs": [],
   "source": [
    "def alpha_beta_L(g_α, g_β, g_L): \n",
    "        \"\"\"\n",
    "        Input: Free energy functions for 'α', 'β', and 'Liquid' phases\n",
    "        Return: The common tangent between the three phases (Linear if A = 0, otherwise non-linear)\n",
    "        \"\"\"\n",
    "        X, x_α, x_β, x_L, z_α, z_β = sy.symbols('X, x_α, x_β, x_L, z_α, z_β')\n",
    "\n",
    "        A = 0\n",
    "        \n",
    "        eq1 = (-diff(g_α) + diff(g_β))\n",
    "        eq2 = (-diff(g_β) + diff(g_L))\n",
    "        eq3 = (-diff(g_L) + (g_α - g_L + A*z_β)/(x_α - x_L))\n",
    "        eq4 = (-diff(g_L) + (g_β - g_L + A*z_α)/(x_β - x_L))\n",
    "        eq5 = (X - ((1-z_α-z_β)*x_L + z_α*x_α + z_β*x_β))\n",
    "        sol = solve((eq1,eq2,eq3,eq4,eq5),[x_α,x_β,x_L,z_α,z_β])\n",
    "\n",
    "        if np.size(sol) == 0:\n",
    "            return float('inf')\n",
    "        else:\n",
    "            x_α_,x_β_,x_L_ = sol[0][0],sol[0][1],sol[0][2]\n",
    "            z_α_,z_β_ = sol[0][3],sol[0][4]\n",
    "            z_L_ = 1-z_α_-z_β_\n",
    "        return z_α_*g_α.subs(x_α,x_α_) + z_β_*g_β.subs(x_β,x_β_) + z_L_*g_L.subs(x_L,x_L_) + A*z_α_*z_β_"
   ]
  },
  {
   "cell_type": "code",
   "execution_count": 26,
   "metadata": {},
   "outputs": [],
   "source": [
    "    def alpha_L(g_α, g_L):\n",
    "        \"\"\"\n",
    "        Input: Free energy functions for 'α' and 'Liquid' phases\n",
    "        Return: The common tangent between the two phases (Linear)\n",
    "        \"\"\"\n",
    "        X, x_α, x_β, x_L, z_α, z_β = sy.symbols('X, x_α, x_β, x_L, z_α, z_β')\n",
    "        \n",
    "        eq1 = (-diff(g_L) + diff(g_α))\n",
    "        eq2 = (-diff(g_α) + (g_α - g_L)/(x_α - x_L))\n",
    "        sol = solve((eq1,eq2),[x_α,x_L])\n",
    "        if 0 <= sol[0][0] <= 1:\n",
    "            x_α_,x_L_ = sol[0][0],sol[0][1]\n",
    "        else:\n",
    "            x_α_,x_L_ = sol[1][0],sol[1][1]\n",
    "        x_α_,x_L_ = sol[0][0],sol[0][1]\n",
    "        z_α_ = (X - x_L_)/(x_α_ - x_L_)\n",
    "        z_L_ = 1 - z_α_\n",
    "        return z_α_*g_α.subs(x_α, x_α_) + z_L_*g_L.subs(x_L, x_L_)\n",
    "    \n",
    "    def beta_L(g_β, g_L):\n",
    "        \"\"\"\n",
    "        Input: Free energy functions for 'β' and 'Liquid' phases\n",
    "        Return: The common tangent between the two phases (Linear)\n",
    "        \"\"\"\n",
    "        X, x_α, x_β, x_L, z_α, z_β = sy.symbols('X, x_α, x_β, x_L, z_α, z_β')\n",
    "        \n",
    "        eq1 = (-diff(g_L) + diff(g_β))\n",
    "        eq2 = (-diff(g_β) + (g_β - g_L)/(x_β - x_L))\n",
    "        sol = solve((eq1,eq2),[x_β,x_L])\n",
    "\n",
    "        if 0 <= sol[0][0] <= 1:\n",
    "            x_β_,x_L_ = sol[0][0],sol[0][1]\n",
    "        else:\n",
    "            x_β_,x_L_ = sol[1][0],sol[1][1]\n",
    "        z_β_ = (X - x_L_)/(x_β_ - x_L_)\n",
    "        z_L_ = 1 - z_β_\n",
    "        return z_β_*g_β.subs(x_β, x_β_) + z_L_*g_L.subs(x_L, x_L_)\n",
    "\n",
    "    def alpha_beta(g_α, g_β):\n",
    "        \"\"\"\n",
    "        Input: Free energy functions for 'α' and 'β' phases\n",
    "        Return: The common tangent between the two phases (Linear if A = 0, otherwise non-linear)\n",
    "        \"\"\"\n",
    "        X, x_α, x_β, x_L, z_α, z_β = sy.symbols('X, x_α, x_β, x_L, z_α, z_β')\n",
    "        \n",
    "        A = 0\n",
    "        \n",
    "        eq1 = (-diff(g_α) + diff(g_β))\n",
    "        eq2 = (-diff(g_β) + (g_β - g_α + A*(1-2*(x_α-X)/(x_α-x_β)))/(x_β - x_α))\n",
    "        sol = solve((eq1,eq2),[x_α,x_β])\n",
    "\n",
    "        x_α_,x_β_ = sol[0][0],sol[0][1]\n",
    "        z_α_ = (X - x_β_)/(x_α_ - x_β_)\n",
    "        z_β_ = 1 - z_α_\n",
    "        return z_α_*g_α.subs(x_α,x_α_) + z_β_*g_β.subs(x_β,x_β_) + A*z_α_*z_β_ "
   ]
  },
  {
   "cell_type": "code",
   "execution_count": 27,
   "metadata": {},
   "outputs": [],
   "source": [
    "x_a, x_b, x_L,T = sy.symbols('x_α, x_β, x_L,T')\n",
    "\n",
    "x_a0,x_L0,x_b0 = .2,.5,.8\n",
    "b_a,b_L,b_b = 10,12,11\n",
    "a = 40\n",
    "\n",
    "g_α = a*(x_a-x_a0)**2 + b_a\n",
    "g_β = a*(x_b-x_b0)**2 + b_b\n",
    "g_L = a*(x_L-x_L0)**2 + b_L - T"
   ]
  },
  {
   "cell_type": "code",
   "execution_count": 28,
   "metadata": {},
   "outputs": [],
   "source": [
    "T_grid = np.linspace(1,3,5)"
   ]
  },
  {
   "cell_type": "code",
   "execution_count": 29,
   "metadata": {},
   "outputs": [
    {
     "name": "stdout",
     "output_type": "stream",
     "text": [
      "1.66666666666667*X + 9.64930555555555\n",
      "1.66666666666667*X + 9.64930555555555\n",
      "1.66666666666667*X + 9.64930555555555\n",
      "1.66666666666667*X + 9.64930555555555\n",
      "1.66666666666667*X + 9.64930555555555\n"
     ]
    }
   ],
   "source": [
    "for t in T_grid:\n",
    "    g_a, g_b, g_L1 = g_α.subs(T,t),g_β.subs(T,t),g_L.subs(T,t)\n",
    "    # solution = alpha_beta_L(g_a,g_b,g_L1)\n",
    "    # solution = beta_L(g_b,g_L1)\n",
    "    # solution = alpha_L(g_a,g_L1)\n",
    "    solution = alpha_beta(g_a,g_b)\n",
    "    print(solution)"
   ]
  },
  {
   "cell_type": "code",
   "execution_count": null,
   "metadata": {},
   "outputs": [],
   "source": []
  }
 ],
 "metadata": {
  "kernelspec": {
   "display_name": "base",
   "language": "python",
   "name": "python3"
  },
  "language_info": {
   "codemirror_mode": {
    "name": "ipython",
    "version": 3
   },
   "file_extension": ".py",
   "mimetype": "text/x-python",
   "name": "python",
   "nbconvert_exporter": "python",
   "pygments_lexer": "ipython3",
   "version": "3.9.12"
  },
  "orig_nbformat": 4,
  "vscode": {
   "interpreter": {
    "hash": "5e317de2eb067e54280a06115eaccd65787b5c64aa5f5ef1b528f939378b9efa"
   }
  }
 },
 "nbformat": 4,
 "nbformat_minor": 2
}
