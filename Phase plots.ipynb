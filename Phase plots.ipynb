{
 "cells": [
  {
   "cell_type": "code",
   "execution_count": 12,
   "id": "31b4709c",
   "metadata": {},
   "outputs": [],
   "source": [
    "import numpy as np\n",
    "import matplotlib.pyplot as plt\n",
    "import sympy as sy\n",
    "from sympy import diff,solve"
   ]
  },
  {
   "cell_type": "code",
   "execution_count": 17,
   "id": "0d927834",
   "metadata": {},
   "outputs": [],
   "source": [
    "x_a, x_b, x_L, z_a, z_b, lam = sy.symbols(' x_alpha, x_beta, x_L, z_alpha, z_beta, lam')\n",
    "\n",
    "x_a0,x_L0,x_b0 = .2,.5,.8\n",
    "b_a,b_L,b_b = 10,11,10.5\n",
    "a = 40\n",
    "\n",
    "#for symbolic\n",
    "g_a = a*(x_a-x_a0)**2 + b_a\n",
    "g_b = a*(x_b-x_b0)**2 + b_b\n",
    "g_L = a*(x_L-x_L0)**2 + b_L\n",
    "\n",
    "#for plotting\n",
    "g_a1 = lambda x_a: a*(x_a-x_a0)**2 + b_a\n",
    "g_b1 = lambda x_b: a*(x_b-x_b0)**2 + b_b\n",
    "g_L1 = lambda x_L: a*(x_L-x_L0)**2 + b_L"
   ]
  },
  {
   "cell_type": "code",
   "execution_count": 65,
   "id": "9b58e765",
   "metadata": {},
   "outputs": [],
   "source": [
    "def beta_L(X,A):\n",
    "    eq1 = (-diff(g_L) + diff(g_b))\n",
    "    eq2 = (-diff(g_b) + (g_b - g_L)/(x_b - x_L))\n",
    "    sol = solve((eq1,eq2),[x_b,x_L])\n",
    "    \n",
    "    x_b_,x_L_ = sol[0][0],sol[0][1]\n",
    "    z_b_ = (X - x_L_)/(x_b_ - x_L_)\n",
    "    z_L_ = 1 - z_b_\n",
    "    if min(x_b_,x_L_,z_b_,z_L_) < 0 or max(x_b_,x_L_,z_b_,z_L_) > 1:\n",
    "        return float('inf')\n",
    "    else:\n",
    "#         return sol\n",
    "        return z_b_*g_b.subs(x_b, x_b_) + z_L_*g_L.subs(x_L, x_L_)\n",
    "\n",
    "def alpha_L(X,A):\n",
    "    eq1 = (-diff(g_L) + diff(g_a))\n",
    "    eq2 = (-diff(g_a) + (g_a - g_L)/(x_a - x_L))\n",
    "    sol = solve((eq1,eq2),[x_a,x_L])\n",
    "    \n",
    "    x_a_,x_L_ = sol[0][0],sol[0][1]\n",
    "    z_a_ = (X - x_L_)/(x_a_ - x_L_)\n",
    "    z_L_ = 1 - z_a_\n",
    "    if min(x_a_,x_L_,z_a_,z_L_) < 0 or max(x_a_,x_L_,z_a_,z_L_) > 1:\n",
    "        return float('inf')\n",
    "    else:\n",
    "#         return sol\n",
    "        return z_a_*g_a.subs(x_a, x_a_) + z_L_*g_L.subs(x_L, x_L_)\n",
    "\n",
    "def alpha_beta(X,A):\n",
    "    eq1 = (-diff(g_a) + diff(g_b))\n",
    "    eq2 = (-diff(g_b) + (g_b - g_a + A*(1-2*(x_a-X)/(x_a-x_b)))/(x_b - x_a))\n",
    "    sol = solve((eq1,eq2),[x_a,x_b])\n",
    "\n",
    "    x_a_,x_b_ = sol[0][0],sol[0][1]\n",
    "    z_a_ = (X - x_b_)/(x_a_ - x_b_)\n",
    "    z_b_ = 1 - z_a_\n",
    "    \n",
    "    if min(x_a_,x_b_,z_a_,z_b_) <= 0 or max(x_a_,x_b_,z_a_,z_b_) >= 1:\n",
    "        return float('inf')\n",
    "    else:\n",
    "#         return sol,z_a_,z_b_\n",
    "        return z_a_*g_a.subs(x_a,x_a_) + z_b_*g_b.subs(x_b,x_b_) + A*z_a_*z_b_\n",
    "\n",
    "def alpha_beta_L(X,A):\n",
    "    eq1 = (-diff(g_a) + diff(g_b))\n",
    "    eq2 = (-diff(g_b) + diff(g_L))\n",
    "    eq3 = (-diff(g_L) + (g_a - g_L + A*z_b)/(x_a - x_L))\n",
    "    eq4 = (-diff(g_L) + (g_b - g_L + A*z_a)/(x_b - x_L))\n",
    "    eq5 = (X - ((1-z_a-z_b)*x_L + z_a*x_a + z_b*x_b))\n",
    "    sol = solve((eq1,eq2,eq3,eq4,eq5),[x_a,x_b,x_L,z_a,z_b])\n",
    "\n",
    "    if np.size(sol) == 0:\n",
    "        return float('inf')\n",
    "    else:\n",
    "        x_a_,x_b_,x_L_ = sol[0][0],sol[0][1],sol[0][2]\n",
    "        z_a_,z_b_ = sol[0][3],sol[0][4]\n",
    "        z_L_ = 1-z_a_-z_b_\n",
    "        if min(x_a_,x_b_,z_a_,z_b_,z_L_) <= 0 or max(x_a_,x_b_,z_a_,z_b_,z_L_) >= 1:\n",
    "            return float('inf')\n",
    "        else:\n",
    "#             return sol\n",
    "            return z_a_*g_a.subs(x_a,x_a_) + z_b_*g_b.subs(x_b,x_b_) + z_L_*g_L.subs(x_L,x_L_) + A*z_a_*z_b_"
   ]
  },
  {
   "cell_type": "code",
   "execution_count": 67,
   "id": "2369a1c9",
   "metadata": {},
   "outputs": [
    {
     "data": {
      "image/png": "[encoded data removed]",
      "text/plain": [
       "<Figure size 432x288 with 1 Axes>"
      ]
     },
     "metadata": {
      "needs_background": "light"
     },
     "output_type": "display_data"
    }
   ],
   "source": [
    "A = 5\n",
    "x_grid = np.linspace(0,1,50)\n",
    "al,bl,ab,abl = [],[],[],[]\n",
    "\n",
    "for i in x_grid:\n",
    "    al.append(alpha_L(i,A))\n",
    "    bl.append(beta_L(i,A))\n",
    "    ab.append(alpha_beta(i,A))\n",
    "    abl.append(alpha_beta_L(i,A))\n",
    "    \n",
    "plt.plot(x_grid,bl,label = 'b + L')\n",
    "plt.plot(x_grid,al,label = 'a + L')\n",
    "plt.plot(x_grid,ab,label = 'a + b')\n",
    "plt.plot(x_grid,abl,label = 'a + b + l')\n",
    "plt.plot(x_grid,g_a1(x_grid),label = 'a')\n",
    "plt.plot(x_grid,g_b1(x_grid),label = 'b')\n",
    "plt.plot(x_grid,g_L1(x_grid),label = 'L')\n",
    "plt.legend()\n",
    "plt.ylim(9,12)\n",
    "plt.xlim(.1,.9)\n",
    "plt.show()"
   ]
  },
  {
   "cell_type": "code",
   "execution_count": null,
   "id": "1865d860",
   "metadata": {},
   "outputs": [],
   "source": []
  }
 ],
 "metadata": {
  "kernelspec": {
   "display_name": "Python 3 (ipykernel)",
   "language": "python",
   "name": "python3"
  },
  "language_info": {
   "codemirror_mode": {
    "name": "ipython",
    "version": 3
   },
   "file_extension": ".py",
   "mimetype": "text/x-python",
   "name": "python",
   "nbconvert_exporter": "python",
   "pygments_lexer": "ipython3",
   "version": "3.9.12"
  }
 },
 "nbformat": 4,
 "nbformat_minor": 5
}
