{
 "cells": [
  {
   "cell_type": "code",
   "execution_count": 1,
   "id": "193c4e50",
   "metadata": {},
   "outputs": [],
   "source": [
    "import numpy as np\n",
    "import matplotlib.pyplot as plt\n",
    "import sympy as sy\n",
    "from sympy import diff,solve"
   ]
  },
  {
   "cell_type": "code",
   "execution_count": 470,
   "id": "2b6c0aa2",
   "metadata": {},
   "outputs": [],
   "source": [
    "X,x_a, x_b, x_L, z_a, z_b = sy.symbols('X, x_a, x_b, x_L, z_a, z_b')\n",
    "a = 30\n",
    "x_a0,x_L0,x_b0 = .2,.5,.8\n",
    "b_a,b_L,b_b = 10,9,10.5\n",
    "\n",
    "g_L = a*(x_L-x_L0)**2 + b_L\n",
    "g_a = a*(x_a-x_a0)**2 + b_a\n",
    "g_b = a*(x_b-x_b0)**2 + b_b\n",
    "\n",
    "def beta_L(A):\n",
    "    eq1 = (-diff(g_L) + diff(g_b))\n",
    "    eq2 = (-diff(g_b) + (g_b - g_L)/(x_b - x_L))\n",
    "    sol = solve((eq1,eq2),[x_b,x_L])\n",
    "\n",
    "    x_b_,x_L_ = sol[0][0],sol[0][1]\n",
    "    z_b_ = (X - x_L_)/(x_b_ - x_L_)\n",
    "    z_L_ = 1 - z_b_\n",
    "    return z_b_*g_b.subs(x_b, x_b_) + z_L_*g_L.subs(x_L, x_L_)\n",
    "\n",
    "def alpha_L(A):\n",
    "    eq1 = (-diff(g_L) + diff(g_a))\n",
    "    eq2 = (-diff(g_a) + (g_a - g_L)/(x_a - x_L))\n",
    "    sol = solve((eq1,eq2),[x_a,x_L])\n",
    "\n",
    "    x_a_,x_L_ = sol[0][0],sol[0][1]\n",
    "    z_a_ = (X - x_L_)/(x_a_ - x_L_)\n",
    "    z_L_ = 1 - z_a_\n",
    "    return z_a_*g_a.subs(x_a, x_a_) + z_L_*g_L.subs(x_L, x_L_)\n",
    "\n",
    "def alpha_beta(A):\n",
    "    eq1 = (-diff(g_a) + diff(g_b))\n",
    "    eq2 = (-diff(g_b) + (g_b - g_a + A*(1-2*(x_a-X)/(x_a-x_b)))/(x_b - x_a))\n",
    "    sol = solve((eq1,eq2),[x_a,x_b])\n",
    "\n",
    "    x_a_,x_b_ = sol[0][0],sol[0][1]\n",
    "    z_a_ = (X - x_b_)/(x_a_ - x_b_)\n",
    "    z_b_ = 1 - z_a_\n",
    "    return z_a_*g_a.subs(x_a,x_a_) + z_b_*g_b.subs(x_b,x_b_) + A*z_a_*z_b_\n",
    "\n",
    "def alpha_beta_L(A):\n",
    "    eq1 = (-diff(g_a) + diff(g_b))\n",
    "    eq2 = (-diff(g_b) + diff(g_L))\n",
    "    eq3 = (-diff(g_L) + (g_a - g_L + A*z_b)/(x_a - x_L))\n",
    "    eq4 = (-diff(g_L) + (g_b - g_L + A*z_a)/(x_b - x_L))\n",
    "    eq5 = (X - ((1-z_a-z_b)*x_L + z_a*x_a + z_b*x_b))\n",
    "    sol = solve((eq1,eq2,eq3,eq4,eq5),[x_a,x_b,x_L,z_a,z_b])\n",
    "    \n",
    "    if np.size(sol) == 0:\n",
    "        return float('inf')\n",
    "    else:\n",
    "        x_a_,x_b_,x_L_ = sol[0][0],sol[0][1],sol[0][2]\n",
    "        z_a_,z_b_ = sol[0][3],sol[0][4]\n",
    "        z_L_ = 1-z_a_-z_b_\n",
    "    return z_a_*g_a.subs(x_a,x_a_) + z_b_*g_b.subs(x_b,x_b_) + z_L_*g_L.subs(x_L,x_L_) + A*z_a_*z_b_\n",
    "\n",
    "#Intersect common tangent and free energies\n",
    "def intersect_bL_G(com_tan_bL):\n",
    "    eq1 = (com_tan_bL - g_L.subs(x_L,X))\n",
    "    sol_L = solve((eq1),[X])\n",
    "    eq2 = (com_tan_bL - g_b.subs(x_b,X))\n",
    "    sol_b = solve((eq2),[X])\n",
    "    #Sometimes rounding errors may result in 2 very similar answers, on the order of 1e-8, also may end in imaginary error\n",
    "    return np.array([sy.re(sol_L[0]), sy.re(sol_b[0])])\n",
    "\n",
    "def intersect_aL_G(com_tan_al):\n",
    "    eq1 = (com_tan_al - g_L.subs(x_L,X))\n",
    "    sol_L = solve((eq1),[X])\n",
    "    eq2 = (com_tan_al - g_a.subs(x_a,X))\n",
    "    sol_a = solve((eq2),[X])\n",
    "    return np.array([sy.re(sol_L[0]), sy.re(sol_a[0])])\n",
    "\n",
    "def intersect_ab_G(com_tan_ab):\n",
    "    eq1 = (com_tan_ab - g_a.subs(x_a,X))\n",
    "    sol_a = solve((eq1),[X])\n",
    "    eq2 = (com_tan_ab - g_b.subs(x_b,X))\n",
    "    sol_b = solve((eq2),[X])\n",
    "    return np.array([sy.re(sol_a[0]), sy.re(sol_b[0])])\n",
    "\n",
    "def intersection_points(com_tan,g_1,g_2,x_1,x_2):\n",
    "    eq1 = (com_tan - g_1.subs(x_1,X))\n",
    "    sol_1 = solve((eq1),[X])\n",
    "    eq2 = (com_tan - g_2.subs(x_2,X))\n",
    "    sol_2 = solve((eq2),[X])\n",
    "    return np.array([sy.re(sol_1[0]), sy.re(sol_2[0])])\n",
    "\n",
    "\n",
    "#Intersect common tangents\n",
    "def intersect_aL_bL(com_tan_aL,com_tan_bL):\n",
    "    eq1 = (com_tan_aL - com_tan_bL)\n",
    "    sol_aL_bL = np.array(solve((eq1),[X]))\n",
    "    return sol_aL_bL[np.where((sol_aL_bL > 0)&(sol_aL_bL < 1))]\n",
    "\n",
    "def intersect_aL_ab(com_tan_aL,com_tan_ab):\n",
    "    eq1 = (com_tan_aL - com_tan_ab)\n",
    "    sol_aL_ab = np.array(solve((eq1),[X]))\n",
    "    return sol_aL_ab[np.where((sol_aL_ab > 0)&(sol_aL_ab < 1))]\n",
    "\n",
    "def intersect_bL_ab(com_tan_bL,com_tan_ab):\n",
    "    eq1 = (com_tan_bL - com_tan_ab)\n",
    "    sol_bL_ab = np.array(solve((eq1),[X]))\n",
    "    return sol_bL_ab[np.where((sol_bL_ab > 0) & (sol_bL_ab < 1))]\n",
    "\n",
    "def grid_search(common_bl,common_al,common_ab):\n",
    "    grid_1 = np.concatenate((intersect_bL_G(common_bl),intersect_aL_G(common_al),intersect_ab_G(common_ab)))\n",
    "    grid_2 = np.concatenate((intersect_aL_bL(common_al,common_bl),intersect_aL_ab(common_al,common_ab),intersect_bL_ab(common_bl,common_ab)))\n",
    "    full_grid = np.concatenate((grid_1,grid_2))\n",
    "    return np.sort(full_grid)\n",
    "# # common_abl = sy.lambdify(X,alpha_beta_L(1))"
   ]
  },
  {
   "cell_type": "code",
   "execution_count": 471,
   "id": "082df59b",
   "metadata": {},
   "outputs": [],
   "source": [
    "intersect = intersection_points(common_al,g_a,g_L,x_a,x_L)\n",
    "\n",
    "#Outside of the intersections is infeasible\n",
    "def correct_tangent(com_tan,intersection_points):\n",
    "    new_tangent = sy.Piecewise(\n",
    "        (float('inf'),X < min(intersection_points)),\n",
    "        (float('inf'),X > max(intersection_points)),\n",
    "        (com_tan,True))\n",
    "    return new_tangent\n"
   ]
  },
  {
   "cell_type": "code",
   "execution_count": 472,
   "id": "9ddbe83e",
   "metadata": {},
   "outputs": [],
   "source": [
    "common_bl = beta_L(s)\n",
    "common_al = alpha_L(s)\n",
    "common_ab = alpha_beta(s)\n",
    "common_abl = alpha_beta_L(s)"
   ]
  },
  {
   "cell_type": "code",
   "execution_count": 473,
   "id": "04d73072",
   "metadata": {},
   "outputs": [
    {
     "data": {
      "text/latex": [
       "$\\displaystyle 5.0 X + 6.29166666666667$"
      ],
      "text/plain": [
       "5.0*X + 6.29166666666667"
      ]
     },
     "execution_count": 473,
     "metadata": {},
     "output_type": "execute_result"
    }
   ],
   "source": [
    "common_bl"
   ]
  },
  {
   "cell_type": "code",
   "execution_count": 474,
   "id": "3f970ef0",
   "metadata": {},
   "outputs": [],
   "source": [
    "def intersect_abl(com_abl,com_al,com_bl): #delete out? \n",
    "    eq1 = (com_abl - com_al)\n",
    "    sol_1 = solve((eq1),[X])\n",
    "    eq2 = (com_abl - com_bl)\n",
    "    sol_2 = solve((eq2),[X])\n",
    "    return np.array([sy.re(sol_1[0]), sy.re(sol_2[0])])"
   ]
  },
  {
   "cell_type": "code",
   "execution_count": 475,
   "id": "312ca562",
   "metadata": {},
   "outputs": [],
   "source": [
    "c = sy.lambdify(X,correct_tangent(common_al,intersect))"
   ]
  },
  {
   "cell_type": "code",
   "execution_count": null,
   "id": "77dfb6f7",
   "metadata": {},
   "outputs": [],
   "source": []
  },
  {
   "cell_type": "code",
   "execution_count": 476,
   "id": "b7c34105",
   "metadata": {},
   "outputs": [
    {
     "name": "stdout",
     "output_type": "stream",
     "text": [
      "[0.144444436432108 0.194236132807981 0.241666641857467 0.444444430389877\n",
      " 0.513888888888889 0.583333333333333 0.786111085356247 0.833541644969801\n",
      " 0.883333333333333]\n"
     ]
    }
   ],
   "source": [
    "common_bl = beta_L(1)\n",
    "common_al = alpha_L(1)\n",
    "common_ab = alpha_beta(1)\n",
    "common_abl = alpha_beta_L(2)\n",
    "check_points = grid_search(common_bl,common_al,common_ab)\n",
    "print(check_points)"
   ]
  },
  {
   "cell_type": "code",
   "execution_count": 477,
   "id": "f1380d67",
   "metadata": {},
   "outputs": [
    {
     "name": "stdout",
     "output_type": "stream",
     "text": [
      "[10.0925926193004 7.01388884882721 9.78009256779253]\n",
      "[9.92662029804749 7.26284733070657 9.92662029804750]\n",
      "[9.76851860121588 7.49999987595400 10.0520832713104]\n",
      "[9.09259263944117 8.51388881861605 10.4331537993947]\n",
      "[8.86111111111113 8.86111111111112 10.5057870370371]\n",
      "[8.62962962962965 9.20833333333334 10.5488945578232]\n",
      "[7.95370378955327 10.2222220934479 10.5057870584994]\n",
      "[7.79560192417476 10.4593748915157 10.4593748915157]\n",
      "[7.62962962962965 10.7083333333333 10.3958333333334]\n"
     ]
    },
    {
     "data": {
      "text/plain": [
       "{0.144444436432108: 'βL',\n",
       " 0.194236132807981: 'βL',\n",
       " 0.241666641857467: 'βL',\n",
       " 0.444444430389877: 'βL',\n",
       " 0.513888888888889: 'βL',\n",
       " 0.583333333333333: 'αL',\n",
       " 0.786111085356247: 'αL',\n",
       " 0.833541644969801: 'αL',\n",
       " 0.883333333333333: 'αL'}"
      ]
     },
     "execution_count": 477,
     "metadata": {},
     "output_type": "execute_result"
    }
   ],
   "source": [
    "def check_phase(check_points,common_al,common_bl,common_ab):\n",
    "    phases = np.array(['αL','βL','αβ'])\n",
    "    exit = []\n",
    "    al_tangent = sy.lambdify(X,common_al)\n",
    "    bl_tangent = sy.lambdify(X,common_bl)\n",
    "    ab_tangent = sy.lambdify(X,common_ab)\n",
    "    for i,val in enumerate(check_points):\n",
    "        al = al_tangent(val)\n",
    "        bl = bl_tangent(val)\n",
    "        ab = ab_tangent(val)\n",
    "        check = np.array([al,bl,ab])\n",
    "        print(check)\n",
    "        index = np.argmin(check)\n",
    "        exit.append(phases[index])\n",
    "    return dict(zip(check_points,exit))\n",
    "\n",
    "check_phase(check_points,common_al,common_bl,common_ab)"
   ]
  },
  {
   "cell_type": "code",
   "execution_count": null,
   "id": "59078d8e",
   "metadata": {},
   "outputs": [],
   "source": []
  },
  {
   "cell_type": "code",
   "execution_count": 478,
   "id": "b67bacc6",
   "metadata": {},
   "outputs": [
    {
     "data": {
      "image/png": "[encoded data removed]",
      "text/plain": [
       "<Figure size 432x288 with 1 Axes>"
      ]
     },
     "metadata": {
      "needs_background": "light"
     },
     "output_type": "display_data"
    }
   ],
   "source": [
    "#Graphical construction -- Check to make sense? \n",
    "\n",
    "s = 5\n",
    "common_bl = beta_L(s)\n",
    "common_al = alpha_L(s)\n",
    "common_ab = alpha_beta(s)\n",
    "common_abl = alpha_beta_L(s)\n",
    "\n",
    "common_bl_ = sy.lambdify(X,common_bl)\n",
    "common_al_ = sy.lambdify(X,common_al)\n",
    "common_ab_ = sy.lambdify(X,common_ab)\n",
    "common_abl_ = sy.lambdify(X,common_abl)\n",
    "\n",
    "g_L_ = lambda x_L: a*(x_L-x_L0)**2 + b_L\n",
    "g_a_ = lambda x_a: a*(x_a-x_a0)**2 + b_a\n",
    "g_b_ = lambda x_b: a*(x_b-x_b0)**2 + b_b\n",
    "\n",
    "x = np.linspace(-1,1,100)\n",
    "plt.plot(x,g_L_(x))\n",
    "plt.plot(x,g_a_(x))\n",
    "plt.plot(x,g_b_(x))\n",
    "plt.plot(x,common_bl_(x))\n",
    "plt.plot(x,common_al_(x))\n",
    "plt.plot(x,common_ab_(x))\n",
    "plt.plot(x,common_abl_(x))\n",
    "# if common_abl(x).any() != float('inf'):\n",
    "#     plt.plot(x,common_abl(x))\n",
    "plt.ylim(9,13)\n",
    "plt.xlim(0,1)\n",
    "plt.show()"
   ]
  },
  {
   "cell_type": "code",
   "execution_count": 295,
   "id": "59883fca",
   "metadata": {},
   "outputs": [],
   "source": [
    "common_bl = beta_L(1)\n",
    "common_al = alpha_L(1)\n",
    "common_ab = alpha_beta(1)\n",
    "# print(intersect_bL_G(common_bl))\n",
    "# print(intersect_aL_G(common_al))\n",
    "# print(intersect_ab_G(common_ab))\n",
    "x = grid_search(common_bl,common_al,common_ab)"
   ]
  },
  {
   "cell_type": "code",
   "execution_count": 299,
   "id": "5bffe35b",
   "metadata": {},
   "outputs": [
    {
     "data": {
      "text/latex": [
       "$\\displaystyle 1.37772809711438$"
      ],
      "text/plain": [
       "1.37772809711438"
      ]
     },
     "execution_count": 299,
     "metadata": {},
     "output_type": "execute_result"
    }
   ],
   "source": []
  },
  {
   "cell_type": "code",
   "execution_count": 280,
   "id": "230e95ba",
   "metadata": {},
   "outputs": [
    {
     "data": {
      "text/plain": [
       "array([0.416666666666667, 0.716666666666667], dtype=object)"
      ]
     },
     "execution_count": 280,
     "metadata": {},
     "output_type": "execute_result"
    }
   ],
   "source": [
    "intersect_bL_G(common_bl)"
   ]
  },
  {
   "cell_type": "code",
   "execution_count": 281,
   "id": "efe4fa19",
   "metadata": {},
   "outputs": [
    {
     "name": "stdout",
     "output_type": "stream",
     "text": [
      "[0.513888888888889]\n",
      "[0.275545619422876]\n",
      "[0.752232158354901]\n"
     ]
    }
   ],
   "source": [
    "print(intersect_aL_bL(common_al,common_bl))\n",
    "print(intersect_aL_ab(common_al,common_ab))\n",
    "print(intersect_bL_ab(common_bl,common_ab))"
   ]
  },
  {
   "cell_type": "code",
   "execution_count": 302,
   "id": "65a6b6ca",
   "metadata": {},
   "outputs": [
    {
     "data": {
      "image/png": "[encoded data removed]",
      "text/plain": [
       "<Figure size 432x288 with 1 Axes>"
      ]
     },
     "metadata": {
      "needs_background": "light"
     },
     "output_type": "display_data"
    }
   ],
   "source": [
    "common_bl_ = sy.lambdify(X,common_bl)\n",
    "common_al_ = sy.lambdify(X,common_al)\n",
    "common_ab_ = sy.lambdify(X,common_ab)\n",
    "\n",
    "g_L_ = lambda x_L: a*(x_L-x_L0)**2 + b_L\n",
    "g_a_ = lambda x_a: a*(x_a-x_a0)**2 + b_a\n",
    "g_b_ = lambda x_b: a*(x_b-x_b0)**2 + b_b\n",
    "\n",
    "x = np.linspace(0,1,100)\n",
    "plt.plot(x,g_L_(x))\n",
    "plt.plot(x,g_a_(x))\n",
    "plt.plot(x,g_b_(x))\n",
    "plt.plot(x,common_bl_(x))\n",
    "plt.plot(x,common_al_(x))\n",
    "plt.plot(x,common_ab_(x))\n",
    "# if common_abl(x).any() != float('inf'):\n",
    "#     plt.plot(x,common_abl(x))\n",
    "plt.ylim(9,13)\n",
    "plt.xlim(.1,.9)\n",
    "plt.show()"
   ]
  },
  {
   "cell_type": "code",
   "execution_count": 57,
   "id": "50b02532",
   "metadata": {},
   "outputs": [
    {
     "data": {
      "image/png": "[encoded data removed]",
      "text/plain": [
       "<Figure size 432x288 with 1 Axes>"
      ]
     },
     "metadata": {
      "needs_background": "light"
     },
     "output_type": "display_data"
    }
   ],
   "source": [
    "#for example (un-comment to see how to input)\n",
    "x_a, x_b, x_L = sy.symbols('x_a, x_b, x_L')\n",
    "\n",
    "x_a0,x_L0,x_b0 = .2,.5,.8\n",
    "b_a,b_L,b_b = 10,12,10.5\n",
    "a = 40\n",
    "T_grid = np.linspace(0,4,20)\n",
    "\n",
    "g_a = a*(x_a-x_a0)**2 + b_a\n",
    "g_b = a*(x_b-x_b0)**2 + b_b\n",
    "for i in range(len(T_grid)):\n",
    "    T = T_grid[i]\n",
    "    g_L = a*(x_L-x_L0)**2 + b_L - T\n",
    "    plot(g_a,g_b,g_L,T,A = 5, x_range = [0,1],grid_points = 70)\n",
    "# plt.legend()\n",
    "plt.show()"
   ]
  },
  {
   "cell_type": "code",
   "execution_count": null,
   "id": "23e62915",
   "metadata": {},
   "outputs": [],
   "source": []
  }
 ],
 "metadata": {
  "kernelspec": {
   "display_name": "Python 3 (ipykernel)",
   "language": "python",
   "name": "python3"
  },
  "language_info": {
   "codemirror_mode": {
    "name": "ipython",
    "version": 3
   },
   "file_extension": ".py",
   "mimetype": "text/x-python",
   "name": "python",
   "nbconvert_exporter": "python",
   "pygments_lexer": "ipython3",
   "version": "3.9.12"
  }
 },
 "nbformat": 4,
 "nbformat_minor": 5
}
