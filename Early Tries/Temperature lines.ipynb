{
 "cells": [
  {
   "cell_type": "code",
   "execution_count": 1,
   "id": "193c4e50",
   "metadata": {},
   "outputs": [],
   "source": [
    "import numpy as np\n",
    "import matplotlib.pyplot as plt\n",
    "import sympy as sy\n",
    "from sympy import diff,solve"
   ]
  },
  {
   "cell_type": "code",
   "execution_count": 2,
   "id": "e7185b4e",
   "metadata": {},
   "outputs": [],
   "source": [
    "def plot(g_a,g_b,g_L,T,A = 0,x_range = [0,1],grid_points = 20,y_range = [0,0]):\n",
    "    x_a, x_b, x_L, z_a, z_b = sy.symbols(' x_a, x_b, x_L, z_alpha, z_beta')\n",
    "    \n",
    "    def beta_L(X,A):\n",
    "        eq1 = (-diff(g_L) + diff(g_b))\n",
    "        eq2 = (-diff(g_b) + (g_b - g_L)/(x_b - x_L))\n",
    "        sol = solve((eq1,eq2),[x_b,x_L])\n",
    "\n",
    "        x_b_,x_L_ = sol[0][0],sol[0][1]\n",
    "        z_b_ = (X - x_L_)/(x_b_ - x_L_)\n",
    "        z_L_ = 1 - z_b_\n",
    "        if min(x_b_,x_L_,z_b_,z_L_) < 0 or max(x_b_,x_L_,z_b_,z_L_) > 1:\n",
    "            return float('inf')\n",
    "        else:\n",
    "        #         return sol\n",
    "            return z_b_*g_b.subs(x_b, x_b_) + z_L_*g_L.subs(x_L, x_L_)\n",
    "\n",
    "    def alpha_L(X,A):\n",
    "        eq1 = (-diff(g_L) + diff(g_a))\n",
    "        eq2 = (-diff(g_a) + (g_a - g_L)/(x_a - x_L))\n",
    "        sol = solve((eq1,eq2),[x_a,x_L])\n",
    "\n",
    "        x_a_,x_L_ = sol[0][0],sol[0][1]\n",
    "        z_a_ = (X - x_L_)/(x_a_ - x_L_)\n",
    "        z_L_ = 1 - z_a_\n",
    "        if min(x_a_,x_L_,z_a_,z_L_) < 0 or max(x_a_,x_L_,z_a_,z_L_) > 1:\n",
    "            return float('inf')\n",
    "        else:\n",
    "    #         return sol\n",
    "            return z_a_*g_a.subs(x_a, x_a_) + z_L_*g_L.subs(x_L, x_L_)\n",
    "\n",
    "    def alpha_beta(X,A):\n",
    "        eq1 = (-diff(g_a) + diff(g_b))\n",
    "        eq2 = (-diff(g_b) + (g_b - g_a + A*(1-2*(x_a-X)/(x_a-x_b)))/(x_b - x_a))\n",
    "        sol = solve((eq1,eq2),[x_a,x_b])\n",
    "\n",
    "        x_a_,x_b_ = sol[0][0],sol[0][1]\n",
    "        z_a_ = (X - x_b_)/(x_a_ - x_b_)\n",
    "        z_b_ = 1 - z_a_\n",
    "\n",
    "        if min(x_a_,x_b_,z_a_,z_b_) <= 0 or max(x_a_,x_b_,z_a_,z_b_) >= 1:\n",
    "            return float('inf')\n",
    "        else:\n",
    "    #         return sol,z_a_,z_b_\n",
    "            return z_a_*g_a.subs(x_a,x_a_) + z_b_*g_b.subs(x_b,x_b_) + A*z_a_*z_b_\n",
    "\n",
    "    def alpha_beta_L(X,A):\n",
    "        eq1 = (-diff(g_a) + diff(g_b))\n",
    "        eq2 = (-diff(g_b) + diff(g_L))\n",
    "        eq3 = (-diff(g_L) + (g_a - g_L + A*z_b)/(x_a - x_L))\n",
    "        eq4 = (-diff(g_L) + (g_b - g_L + A*z_a)/(x_b - x_L))\n",
    "        eq5 = (X - ((1-z_a-z_b)*x_L + z_a*x_a + z_b*x_b))\n",
    "        sol = solve((eq1,eq2,eq3,eq4,eq5),[x_a,x_b,x_L,z_a,z_b])\n",
    "\n",
    "        if np.size(sol) == 0:\n",
    "            return float('inf')\n",
    "        else:\n",
    "            x_a_,x_b_,x_L_ = sol[0][0],sol[0][1],sol[0][2]\n",
    "            z_a_,z_b_ = sol[0][3],sol[0][4]\n",
    "            z_L_ = 1-z_a_-z_b_\n",
    "            if min(x_a_,x_b_,z_a_,z_b_,z_L_) <= 0 or max(x_a_,x_b_,z_a_,z_b_,z_L_) >= 1:\n",
    "                return float('inf')\n",
    "            else:\n",
    "#                 return sol\n",
    "                return z_a_*g_a.subs(x_a,x_a_) + z_b_*g_b.subs(x_b,x_b_) + z_L_*g_L.subs(x_L,x_L_) + A*z_a_*z_b_\n",
    "    \n",
    "    g_a1 = sy.lambdify(x_a,g_a)\n",
    "    g_b1 = sy.lambdify(x_b,g_b)\n",
    "    g_L1 = sy.lambdify(x_L,g_L)\n",
    "    \n",
    "    x_grid = np.linspace(x_range[0],x_range[1],grid_points)\n",
    "    \n",
    "    ga,gb,gL,al = np.ones(len(x_grid))*float('inf'),np.ones(len(x_grid))*float('inf'),np.ones(len(x_grid))*float('inf'),np.ones(len(x_grid))*float('inf')\n",
    "    bl,ab,abl = np.ones(len(x_grid))*float('inf'),np.ones(len(x_grid))*float('inf'),np.ones(len(x_grid))*float('inf')\n",
    "    \n",
    "    for i,val in enumerate(x_grid):\n",
    "        g_ax,g_bx,g_Lx = g_a1(val),g_b1(val),g_L1(val)\n",
    "        g_alx,g_blx,g_abx,g_ablx = alpha_L(val,A),beta_L(val,A),alpha_beta(val,A),alpha_beta_L(val,A)\n",
    "        totals = np.array([g_ax,g_bx,g_Lx,g_alx,g_blx,g_abx,g_ablx])\n",
    "        index = totals.argmin()\n",
    "        if index == 0:\n",
    "            ga[i] = T\n",
    "        if index == 1:\n",
    "            gb[i] = T   \n",
    "        if index == 2:\n",
    "            gL[i] = T\n",
    "        if index == 3:\n",
    "            al[i] = T\n",
    "        if index == 4:\n",
    "            bl[i] = T\n",
    "        if index == 5:\n",
    "            ab[i] = T\n",
    "        if index == 6:\n",
    "            abl[i] = T\n",
    "\n",
    "            \n",
    "        \n",
    "    plt.plot(x_grid,bl,label = 'β + L',color = 'dimgray')\n",
    "    plt.plot(x_grid,al,label = 'α + L',color = 'silver')\n",
    "    plt.plot(x_grid,ab,label = 'α + β',color = 'blue')\n",
    "    plt.plot(x_grid,abl,label = 'α + β + L',color = 'r',linewidth = 2)\n",
    "    plt.plot(x_grid,ga,label = 'α',color = 'blue',linestyle = 'dashed')\n",
    "    plt.plot(x_grid,gb,label = 'β',color = 'blue',linestyle = 'dashed')\n",
    "    plt.plot(x_grid,gL,label = 'L',color = 'black')\n",
    "    plt.title('A = ' + str(A))\n",
    "    plt.xlabel('X')\n",
    "    plt.ylabel('T')\n",
    "#     plt.legend()\n",
    "    plt.xlim(x_range[0],x_range[1])\n",
    "    if y_range != [0,0]:\n",
    "        plt.ylim(y_range[0],y_range[1])\n",
    "#     plt.savefig('A-30.svg', format='svg')\n",
    "#     plt.show()\n",
    "    "
   ]
  },
  {
   "cell_type": "code",
   "execution_count": 58,
   "id": "79fb8dcf",
   "metadata": {},
   "outputs": [
    {
     "data": {
      "image/png": "[encoded data removed]",
      "text/plain": [
       "<Figure size 432x288 with 1 Axes>"
      ]
     },
     "metadata": {
      "needs_background": "light"
     },
     "output_type": "display_data"
    }
   ],
   "source": [
    "#for example (un-comment to see how to input), #Here T = 1.75 is the Teu\n",
    "x_a, x_b, x_L = sy.symbols('x_a, x_b, x_L')\n",
    "\n",
    "x_a0,x_L0,x_b0 = .2,.5,.8\n",
    "b_a,b_L,b_b = 10,12,10.5\n",
    "a = 40\n",
    "T_grid = np.linspace(0,4,20)\n",
    "\n",
    "g_a = a*(x_a-x_a0)**2 + b_a\n",
    "g_b = a*(x_b-x_b0)**2 + b_b\n",
    "for i in range(len(T_grid)):\n",
    "    T = T_grid[i]\n",
    "    g_L = a*(x_L-x_L0)**2 + b_L - T\n",
    "    plot(g_a,g_b,g_L,T,A = 0, x_range = [0,1],grid_points = 70)\n",
    "# plt.legend()\n",
    "plt.show()"
   ]
  },
  {
   "cell_type": "code",
   "execution_count": 61,
   "id": "f3a68da6",
   "metadata": {},
   "outputs": [
    {
     "data": {
      "image/png": "[encoded data removed]",
      "text/plain": [
       "<Figure size 432x288 with 1 Axes>"
      ]
     },
     "metadata": {
      "needs_background": "light"
     },
     "output_type": "display_data"
    }
   ],
   "source": [
    "#for example (un-comment to see how to input), #Here T = 1.75 is the Teu\n",
    "x_a, x_b, x_L = sy.symbols('x_a, x_b, x_L')\n",
    "\n",
    "x_a0,x_L0,x_b0 = .2,.5,.8\n",
    "b_a,b_L,b_b = 10,12,10.5\n",
    "a = 40\n",
    "T_grid = np.linspace(0,4,20)\n",
    "\n",
    "g_a = a*(x_a-x_a0)**2 + b_a\n",
    "g_b = a*(x_b-x_b0)**2 + b_b\n",
    "for i in range(len(T_grid)):\n",
    "    T = T_grid[i]\n",
    "    g_L = a*(x_L-x_L0)**2 + b_L - T\n",
    "    plot(g_a,g_b,g_L,T,A = 3, x_range = [0,1],grid_points = 70)\n",
    "# plt.legend()\n",
    "plt.show()"
   ]
  },
  {
   "cell_type": "code",
   "execution_count": 62,
   "id": "ccddbc2e",
   "metadata": {},
   "outputs": [
    {
     "data": {
      "image/png": "[encoded data removed]",
      "text/plain": [
       "<Figure size 432x288 with 1 Axes>"
      ]
     },
     "metadata": {
      "needs_background": "light"
     },
     "output_type": "display_data"
    }
   ],
   "source": [
    "#for example (un-comment to see how to input), #Here T = 1.75 is the Teu\n",
    "x_a, x_b, x_L = sy.symbols('x_a, x_b, x_L')\n",
    "\n",
    "x_a0,x_L0,x_b0 = .2,.5,.8\n",
    "b_a,b_L,b_b = 10,12,10.5\n",
    "a = 40\n",
    "T_grid = np.linspace(0,4,20)\n",
    "\n",
    "g_a = a*(x_a-x_a0)**2 + b_a\n",
    "g_b = a*(x_b-x_b0)**2 + b_b\n",
    "for i in range(len(T_grid)):\n",
    "    T = T_grid[i]\n",
    "    g_L = a*(x_L-x_L0)**2 + b_L - T\n",
    "    plot(g_a,g_b,g_L,T,A = 4, x_range = [0,1],grid_points = 70)\n",
    "# plt.legend()\n",
    "plt.show()"
   ]
  },
  {
   "cell_type": "code",
   "execution_count": 57,
   "id": "50b02532",
   "metadata": {},
   "outputs": [
    {
     "data": {
      "image/png": "[encoded data removed]",
      "text/plain": [
       "<Figure size 432x288 with 1 Axes>"
      ]
     },
     "metadata": {
      "needs_background": "light"
     },
     "output_type": "display_data"
    }
   ],
   "source": [
    "#for example (un-comment to see how to input)\n",
    "x_a, x_b, x_L = sy.symbols('x_a, x_b, x_L')\n",
    "\n",
    "x_a0,x_L0,x_b0 = .2,.5,.8\n",
    "b_a,b_L,b_b = 10,12,10.5\n",
    "a = 40\n",
    "T_grid = np.linspace(0,4,20)\n",
    "\n",
    "g_a = a*(x_a-x_a0)**2 + b_a\n",
    "g_b = a*(x_b-x_b0)**2 + b_b\n",
    "for i in range(len(T_grid)):\n",
    "    T = T_grid[i]\n",
    "    g_L = a*(x_L-x_L0)**2 + b_L - T\n",
    "    plot(g_a,g_b,g_L,T,A = 5, x_range = [0,1],grid_points = 70)\n",
    "# plt.legend()\n",
    "plt.show()"
   ]
  },
  {
   "cell_type": "code",
   "execution_count": 63,
   "id": "b27aea26",
   "metadata": {},
   "outputs": [
    {
     "data": {
      "image/png": "[encoded data removed]",
      "text/plain": [
       "<Figure size 432x288 with 1 Axes>"
      ]
     },
     "metadata": {
      "needs_background": "light"
     },
     "output_type": "display_data"
    }
   ],
   "source": [
    "#for example (un-comment to see how to input)\n",
    "x_a, x_b, x_L = sy.symbols('x_a, x_b, x_L')\n",
    "\n",
    "x_a0,x_L0,x_b0 = .2,.5,.8\n",
    "b_a,b_L,b_b = 10,12,10.5\n",
    "a = 40\n",
    "T_grid = np.linspace(0,4,20)\n",
    "\n",
    "g_a = a*(x_a-x_a0)**2 + b_a\n",
    "g_b = a*(x_b-x_b0)**2 + b_b\n",
    "for i in range(len(T_grid)):\n",
    "    T = T_grid[i]\n",
    "    g_L = a*(x_L-x_L0)**2 + b_L - T\n",
    "    plot(g_a,g_b,g_L,T,A = 8, x_range = [0,1],grid_points = 70)\n",
    "# plt.legend()\n",
    "plt.show()"
   ]
  },
  {
   "cell_type": "code",
   "execution_count": 60,
   "id": "f738fe2a",
   "metadata": {},
   "outputs": [
    {
     "data": {
      "image/png": "[encoded data removed]",
      "text/plain": [
       "<Figure size 432x288 with 1 Axes>"
      ]
     },
     "metadata": {
      "needs_background": "light"
     },
     "output_type": "display_data"
    }
   ],
   "source": [
    "#for example (un-comment to see how to input)\n",
    "x_a, x_b, x_L = sy.symbols('x_a, x_b, x_L')\n",
    "\n",
    "x_a0,x_L0,x_b0 = .2,.5,.8\n",
    "b_a,b_L,b_b = 10,12,10.5\n",
    "a = 40\n",
    "T_grid = np.linspace(0,4,20)\n",
    "\n",
    "g_a = a*(x_a-x_a0)**2 + b_a\n",
    "g_b = a*(x_b-x_b0)**2 + b_b\n",
    "for i in range(len(T_grid)):\n",
    "    T = T_grid[i]\n",
    "    g_L = a*(x_L-x_L0)**2 + b_L - T\n",
    "    plot(g_a,g_b,g_L,T,A = 20, x_range = [0,1],grid_points = 70)\n",
    "# plt.legend()\n",
    "plt.show()"
   ]
  },
  {
   "cell_type": "code",
   "execution_count": null,
   "id": "23e62915",
   "metadata": {},
   "outputs": [],
   "source": []
  },
  {
   "cell_type": "markdown",
   "id": "2d8d83d3",
   "metadata": {},
   "source": [
    "PERITECTIC"
   ]
  },
  {
   "cell_type": "code",
   "execution_count": 9,
   "id": "b3703298",
   "metadata": {},
   "outputs": [
    {
     "data": {
      "image/png": "[encoded data removed]",
      "text/plain": [
       "<Figure size 432x288 with 1 Axes>"
      ]
     },
     "metadata": {
      "needs_background": "light"
     },
     "output_type": "display_data"
    }
   ],
   "source": [
    "#for example (un-comment to see how to input), \n",
    "x_a, x_b, x_L = sy.symbols('x_a, x_b, x_L')\n",
    "\n",
    "x_a0,x_L0,x_b0 = .2,.8,.5\n",
    "b_a,b_L,b_b = 10,13,10.5\n",
    "a = 40\n",
    "T_grid = np.linspace(0,4,16)\n",
    "\n",
    "g_a = a*(x_a-x_a0)**2 + b_a\n",
    "g_b = a*(x_b-x_b0)**2 + b_b\n",
    "for i in range(len(T_grid)):\n",
    "    T = T_grid[i]\n",
    "    g_L = a*(x_L-x_L0)**2 + b_L - T\n",
    "    plot(g_a,g_b,g_L,T,A = 0, x_range = [0,1],grid_points = 50)\n",
    "# plt.legend()\n",
    "plt.show()"
   ]
  },
  {
   "cell_type": "code",
   "execution_count": 10,
   "id": "fe771d90",
   "metadata": {},
   "outputs": [
    {
     "data": {
      "image/png": "[encoded data removed]",
      "text/plain": [
       "<Figure size 432x288 with 1 Axes>"
      ]
     },
     "metadata": {
      "needs_background": "light"
     },
     "output_type": "display_data"
    }
   ],
   "source": [
    "#for example (un-comment to see how to input), \n",
    "x_a, x_b, x_L = sy.symbols('x_a, x_b, x_L')\n",
    "\n",
    "x_a0,x_L0,x_b0 = .2,.8,.5\n",
    "b_a,b_L,b_b = 10,13,10.5\n",
    "a = 40\n",
    "T_grid = np.linspace(0,4,16)\n",
    "\n",
    "g_a = a*(x_a-x_a0)**2 + b_a\n",
    "g_b = a*(x_b-x_b0)**2 + b_b\n",
    "for i in range(len(T_grid)):\n",
    "    T = T_grid[i]\n",
    "    g_L = a*(x_L-x_L0)**2 + b_L - T\n",
    "    plot(g_a,g_b,g_L,T,A = 3, x_range = [0,1],grid_points = 50)\n",
    "# plt.legend()\n",
    "plt.show()"
   ]
  },
  {
   "cell_type": "code",
   "execution_count": 11,
   "id": "25ae48c3",
   "metadata": {},
   "outputs": [
    {
     "data": {
      "image/png": "[encoded data removed]",
      "text/plain": [
       "<Figure size 432x288 with 1 Axes>"
      ]
     },
     "metadata": {
      "needs_background": "light"
     },
     "output_type": "display_data"
    }
   ],
   "source": [
    "#for example (un-comment to see how to input), \n",
    "x_a, x_b, x_L = sy.symbols('x_a, x_b, x_L')\n",
    "\n",
    "x_a0,x_L0,x_b0 = .2,.8,.5\n",
    "b_a,b_L,b_b = 10,13,10.5\n",
    "a = 40\n",
    "T_grid = np.linspace(0,4,16)\n",
    "\n",
    "g_a = a*(x_a-x_a0)**2 + b_a\n",
    "g_b = a*(x_b-x_b0)**2 + b_b\n",
    "for i in range(len(T_grid)):\n",
    "    T = T_grid[i]\n",
    "    g_L = a*(x_L-x_L0)**2 + b_L - T\n",
    "    plot(g_a,g_b,g_L,T,A = 10, x_range = [0,1],grid_points = 50)\n",
    "# plt.legend()\n",
    "plt.show()"
   ]
  },
  {
   "cell_type": "code",
   "execution_count": null,
   "id": "ca566720",
   "metadata": {},
   "outputs": [],
   "source": []
  }
 ],
 "metadata": {
  "kernelspec": {
   "display_name": "Python 3 (ipykernel)",
   "language": "python",
   "name": "python3"
  },
  "language_info": {
   "codemirror_mode": {
    "name": "ipython",
    "version": 3
   },
   "file_extension": ".py",
   "mimetype": "text/x-python",
   "name": "python",
   "nbconvert_exporter": "python",
   "pygments_lexer": "ipython3",
   "version": "3.9.12"
  }
 },
 "nbformat": 4,
 "nbformat_minor": 5
}
