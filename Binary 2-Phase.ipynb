{
 "cells": [
  {
   "cell_type": "code",
   "execution_count": 1,
   "id": "fc1382f9",
   "metadata": {},
   "outputs": [],
   "source": [
    "import numpy as np\n",
    "import matplotlib.pyplot as plt\n",
    "from scipy.optimize import minimize\n",
    "%matplotlib inline"
   ]
  },
  {
   "cell_type": "markdown",
   "id": "6f5be94d",
   "metadata": {},
   "source": [
    "We want to minimize the function, \n",
    "$$g = z^\\alpha g^\\alpha(x^\\alpha) + z^\\beta g^\\beta(x^\\beta) + Az^\\alpha z^\\beta$$\n",
    "Subject to: \n",
    "$$z^\\alpha + z^\\beta = 1$$\n",
    "$$z^\\alpha x^\\alpha + z^\\beta x^\\beta = X$$\n",
    "$$0 \\leq z^\\alpha, z^\\beta, x^\\alpha , x^\\beta, X \\leq 1$$\n",
    "\n",
    "Under the assumption that the free energies can be described by parabolic functions we examine the form, \n",
    "$$g^\\alpha(x^\\alpha) = a_\\alpha (x^\\alpha - x_0^\\alpha)^2 + b_\\alpha$$\n",
    "$$g^\\beta(x^\\beta) = a_\\beta (x^\\beta - x_0^\\beta)^2 + b_\\beta$$\n",
    "\n",
    "Where, $a_\\alpha, a_\\beta, b_\\alpha,b_\\beta, x_0^\\alpha, x_0^\\beta$ are known. "
   ]
  },
  {
   "cell_type": "markdown",
   "id": "34c9cabf",
   "metadata": {},
   "source": [
    "By substituting the equality constraints, we look to minimize, \n",
    "$$g = z^\\alpha g^\\alpha(x^\\alpha) + (1- z^\\alpha) g^\\beta(x^\\beta) + Az^\\alpha (1 - z^\\alpha)$$\n",
    "Subject to: \n",
    "$$z^\\alpha = \\frac{X - x^\\beta}{x^\\alpha - x^\\beta}$$\n",
    "$$0 \\leq z^\\alpha, z^\\beta, x^\\alpha , x^\\beta, X \\leq 1$$\n"
   ]
  },
  {
   "cell_type": "markdown",
   "id": "1d4937fe",
   "metadata": {},
   "source": [
    "$$\\textbf{Numerical}$$"
   ]
  },
  {
   "cell_type": "code",
   "execution_count": 2,
   "id": "fe47e915",
   "metadata": {},
   "outputs": [],
   "source": [
    "def two_phase_optimization(x_α_0,x_β_0,a_α,a_β,b_α,b_β,A,X):\n",
    "    def objective(sol):\n",
    "        x_α,x_β,z_α = sol[0],sol[1],sol[2]\n",
    "        g_α = a_α*(x_α-x_α_0)**2 + b_α\n",
    "        g_β = a_β*(x_β-x_β_0)**2 + b_β\n",
    "        return z_α*g_α + (1-z_α)*g_β + A*z_α*(1-z_α)\n",
    "\n",
    "    def constraint7(sol):\n",
    "        x_α,x_β,z_α = sol[0],sol[1],sol[2]\n",
    "        return X - z_α*x_α - (1-z_α)*x_β  \n",
    "\n",
    "    con1 = {'type':'ineq', 'fun': lambda sol: sol[0]}\n",
    "    con2 = {'type':'ineq', 'fun': lambda sol: 1-sol[0]}\n",
    "    con3 = {'type':'ineq', 'fun': lambda sol: sol[1]}\n",
    "    con4 = {'type':'ineq', 'fun': lambda sol: 1-sol[1]}\n",
    "    con5 = {'type':'ineq', 'fun': lambda sol: sol[2]}\n",
    "    con6 = {'type':'ineq', 'fun': lambda sol: 1-sol[2]}\n",
    "    con7 = {'type':'eq', 'fun': constraint7}\n",
    "    cons = [con1,con2,con3,con4,con5,con6,con7]\n",
    "\n",
    "    guess = [.2,.6,.2]\n",
    "\n",
    "    sol = minimize(objective,guess,method = 'SLSQP',constraints = cons,\\\n",
    "                  tol = 1e-8)\n",
    "    #return [x_α,x_beta,z_α],[objective value]\n",
    "    return sol.x,sol.fun"
   ]
  },
  {
   "cell_type": "code",
   "execution_count": 3,
   "id": "20431d63",
   "metadata": {},
   "outputs": [],
   "source": [
    "x_α_0,x_β_0 = .25,.75\n",
    "a_α,a_β = 10,10\n",
    "b_α,b_β = 2,2\n",
    "\n",
    "num_error = 1e-7\n",
    "X_grid = np.linspace(num_error,1 - num_error,100)\n",
    "A_grid = np.linspace(0,3,40)\n",
    "feasible_points_X,feasible_points_A = [],[]\n",
    "\n",
    "for i in X_grid:\n",
    "    for j in A_grid: \n",
    "        minimum_points = two_phase_optimization(x_α_0,x_β_0,a_α,a_β,b_α,b_β,j,i)[0]\n",
    "        if minimum_points[2] < 1 - num_error and minimum_points[2] > num_error:\n",
    "            feasible_points_X.append(i)\n",
    "            feasible_points_A.append(j)"
   ]
  },
  {
   "cell_type": "code",
   "execution_count": 4,
   "id": "e65b511c",
   "metadata": {
    "scrolled": false
   },
   "outputs": [
    {
     "data": {
      "image/png": "[encoded data removed]",
      "text/plain": [
       "<Figure size 432x288 with 1 Axes>"
      ]
     },
     "metadata": {
      "needs_background": "light"
     },
     "output_type": "display_data"
    }
   ],
   "source": [
    "plt.scatter(feasible_points_X,feasible_points_A)\n",
    "plt.xlabel('X')\n",
    "plt.ylabel('A')\n",
    "plt.title('Two Phase Region vs. Stress at a given Temp')\n",
    "plt.show()"
   ]
  },
  {
   "cell_type": "markdown",
   "id": "a5d595a1",
   "metadata": {},
   "source": [
    "$$\\textbf{Symbolic}$$\n",
    "\n",
    "Method of Lagrange multipliers"
   ]
  },
  {
   "cell_type": "markdown",
   "id": "3dec938b",
   "metadata": {},
   "source": [
    "$\\textbf{Minimize}$\n",
    "\\begin{align*}\n",
    "l(z^\\alpha,z^\\beta,x^\\alpha,x^\\beta,\\lambda) &=  z^\\alpha g^\\alpha(x^\\alpha) +(1-z^\\alpha)g^\\beta(x^\\beta)+ A z^\\alpha (1-z^\\alpha) \\\\\n",
    "&\\quad - \\lambda( (z^\\alpha x^\\alpha +(1-z^\\alpha)x^\\beta - X)\n",
    "\\end{align*}\n",
    "\n",
    "$\\textbf{Subject to}$\\\n",
    "$$ 0 \\leq z^\\alpha,z^\\beta,z^\\alpha+z^\\beta, x^\\alpha,x^\\beta,X \\leq 1$$\n",
    "\n",
    "Finding the partial derivatives with respect to all variables we get the following equations, \n",
    "\\begin{align*}\n",
    "    \\frac{\\partial l}{\\partial z^\\alpha} &=  g^\\alpha(x^\\alpha) - g^\\beta(x^\\beta) + A(1 - 2z^\\alpha) - \\lambda(x^\\alpha + x^\\beta) = 0\\\\\n",
    "        \\frac{\\partial l}{\\partial x^\\alpha} &=  z^\\alpha(\\frac{d g^\\alpha}{d x^\\alpha} - \\lambda) = 0\\\\\n",
    "    \\frac{\\partial l}{\\partial x_1^\\beta} &= (1-z^\\alpha)(\\frac{d g^\\beta}{d x^\\beta} - \\lambda) = 0\\\\\n",
    "    \\frac{\\partial l}{\\partial \\lambda} &= z^\\alpha x^\\alpha +(1 - z^\\alpha) x^\\beta - X = 0\n",
    "\\end{align*}\n",
    "\n",
    "In which the objective value comes in the form, \n",
    "\\begin{align*}\n",
    "& 1. g^\\alpha(X) \\implies z^\\alpha = 1 \\\\\n",
    "& 2. g^\\beta(X) \\implies z^\\alpha = 0\\\\\n",
    "& 3. \\frac{d g^\\alpha}{d x^\\alpha} = \\frac{d g^\\beta}{d x^\\beta} = \\frac{g^\\alpha(x^\\alpha) - g^\\beta(x^\\beta) + A(1 - 2z^\\alpha)}{x^\\alpha - x^\\beta} \\implies z^\\alpha = \\frac{X - x^\\beta}{x^\\alpha - x^\\beta}\n",
    "\\end{align*}"
   ]
  },
  {
   "cell_type": "code",
   "execution_count": 84,
   "id": "3b8d1fca",
   "metadata": {},
   "outputs": [],
   "source": [
    "import sympy as sy\n",
    "sy.init_printing()\n",
    "\n",
    "x_α, x_β, z_α, lam, a, b, x_α_0, x_β_0, A, X = sy.symbols('x^α x^β z^α lam a b x_0^α x_0^β A X')\n",
    "\n",
    "answer = sy.solve((a*(x_α-x_α_0)**2 - a*(x_β-x_β_0)**2 + A - 2*A*z_α +lam*(x_α-x_β),\n",
    "         2*a*z_α*(x_α-x_α_0) + lam*z_α,\n",
    "         2*a*(1-z_α)*(x_β-x_β_0) + lam*(1-z_α),\n",
    "         z_α*x_α + (1-z_α)*x_β - X), [x_α,x_β,z_α,lam])"
   ]
  },
  {
   "cell_type": "code",
   "execution_count": 85,
   "id": "1ff0e979",
   "metadata": {
    "scrolled": true
   },
   "outputs": [
    {
     "data": {
      "image/png": "[encoded data removed]",
      "text/latex": [
       "$\\displaystyle a \\left(X - x^{α}_{0}\\right)^{2} + b$"
      ],
      "text/plain": [
       "              2    \n",
       "a⋅(X - x_0__α)  + b"
      ]
     },
     "execution_count": 85,
     "metadata": {},
     "output_type": "execute_result"
    }
   ],
   "source": [
    "#solution 1 (same as solution 2) - In the form g^α(X)\n",
    "solution1 = sy.simplify(answer[0][2]*(a*(answer[0][0]-x_α_0)**2+b) + (1-answer[0][2])*(a*(answer[0][1]-x_β_0)**2 +b) + A*answer[0][2]*(1-answer[0][2]))\n",
    "solution1"
   ]
  },
  {
   "cell_type": "code",
   "execution_count": 86,
   "id": "4a048364",
   "metadata": {},
   "outputs": [
    {
     "data": {
      "image/png": "[encoded data removed]",
      "text/latex": [
       "$\\displaystyle a \\left(X - x^{β}_{0}\\right)^{2} + b$"
      ],
      "text/plain": [
       "              2    \n",
       "a⋅(X - x_0__β)  + b"
      ]
     },
     "execution_count": 86,
     "metadata": {},
     "output_type": "execute_result"
    }
   ],
   "source": [
    "#solution 4 (same as solution 5) - In the form g^β(X)\n",
    "solution4 = sy.simplify(answer[3][2]*(a*(answer[3][0]-x_α_0)**2+b) + (1-answer[3][2])*(a*(answer[3][1]-x_β_0)**2 +b) + A*answer[3][2]*(1-answer[3][2]))\n",
    "solution4"
   ]
  },
  {
   "cell_type": "code",
   "execution_count": 87,
   "id": "6c4f8d0f",
   "metadata": {},
   "outputs": [
    {
     "data": {
      "image/png": "[encoded data removed]",
      "text/latex": [
       "$\\displaystyle \\frac{- \\frac{A^{2}}{4} - A X^{2} a + A X a x^{α}_{0} + A X a x^{β}_{0} - A a x^{α}_{0} x^{β}_{0} - A b + a b \\left(x^{α}_{0}\\right)^{2} - 2 a b x^{α}_{0} x^{β}_{0} + a b \\left(x^{β}_{0}\\right)^{2}}{- A + a \\left(x^{α}_{0}\\right)^{2} - 2 a x^{α}_{0} x^{β}_{0} + a \\left(x^{β}_{0}\\right)^{2}}$"
      ],
      "text/plain": [
       "   2                                                                          \n",
       "  A       2                                                                   \n",
       "- ── - A⋅X ⋅a + A⋅X⋅a⋅x_0__α + A⋅X⋅a⋅x_0__β - A⋅a⋅x_0__α⋅x_0__β - A⋅b + a⋅b⋅x_\n",
       "  4                                                                           \n",
       "──────────────────────────────────────────────────────────────────────────────\n",
       "                                                  2                           \n",
       "                                     -A + a⋅x_0__α  - 2⋅a⋅x_0__α⋅x_0__β + a⋅x_\n",
       "\n",
       "                                         \n",
       "    2                                   2\n",
       "0__α  - 2⋅a⋅b⋅x_0__α⋅x_0__β + a⋅b⋅x_0__β \n",
       "                                         \n",
       "─────────────────────────────────────────\n",
       "    2                                    \n",
       "0__β                                     "
      ]
     },
     "execution_count": 87,
     "metadata": {},
     "output_type": "execute_result"
    }
   ],
   "source": [
    "#wanted solution - Two phase solution \n",
    "wanted_solution = sy.simplify(answer[2][2]*(a*(answer[2][0]-x_α_0)**2+b) + (1-answer[2][2])*(a*(answer[2][1]-x_β_0)**2 +b) + A*answer[2][2]*(1-answer[2][2]))\n",
    "wanted_solution"
   ]
  },
  {
   "cell_type": "code",
   "execution_count": 88,
   "id": "c0edb729",
   "metadata": {},
   "outputs": [
    {
     "data": {
      "image/png": "[encoded data removed]",
      "text/latex": [
       "$\\displaystyle - 2 a \\left(X - x^{α}_{0}\\right) \\left(x^{α}_{0} - x^{β}_{0}\\right)$"
      ],
      "text/plain": [
       "-2⋅a⋅(X - x_0__α)⋅(x_0__α - x_0__β)"
      ]
     },
     "execution_count": 88,
     "metadata": {},
     "output_type": "execute_result"
    }
   ],
   "source": [
    "#First boundary where two phase solution exists\n",
    "boundary_1 = sy.solve(wanted_solution - solution1, [A])\n",
    "boundary_1[0]"
   ]
  },
  {
   "cell_type": "code",
   "execution_count": 89,
   "id": "f5c47f74",
   "metadata": {},
   "outputs": [
    {
     "data": {
      "image/png": "[encoded data removed]",
      "text/latex": [
       "$\\displaystyle 2 a \\left(X - x^{β}_{0}\\right) \\left(x^{α}_{0} - x^{β}_{0}\\right)$"
      ],
      "text/plain": [
       "2⋅a⋅(X - x_0__β)⋅(x_0__α - x_0__β)"
      ]
     },
     "execution_count": 89,
     "metadata": {},
     "output_type": "execute_result"
    }
   ],
   "source": [
    "#Second boundary where two phase solution exists\n",
    "boundary_2 = sy.solve(wanted_solution - solution4, [A])\n",
    "boundary_2[0]"
   ]
  },
  {
   "cell_type": "code",
   "execution_count": 90,
   "id": "ccd04f83",
   "metadata": {},
   "outputs": [],
   "source": [
    "boundary_one = sy.lambdify([a,X,x_α_0,x_β_0],boundary_1[0])\n",
    "boundary_two = sy.lambdify([a,X,x_α_0,x_β_0],boundary_2[0])"
   ]
  },
  {
   "cell_type": "code",
   "execution_count": 93,
   "id": "1178078e",
   "metadata": {
    "scrolled": false
   },
   "outputs": [],
   "source": [
    "def check(A,a,X,x_α_0,x_β_0):\n",
    "    if A <= boundary_one(a,X,x_α_0,x_β_0) and A <= boundary_two(a,X,x_α_0,x_β_0):\n",
    "        return True\n",
    "    else:\n",
    "        return False\n",
    "\n",
    "X_grid = np.linspace(num_error,1 - num_error,100)\n",
    "A_grid = np.linspace(0,3,40)\n",
    "# A = np.linspace(0,1,200)\n",
    "# X = np.linspace(0,1,200)\n",
    "a, b, x_α_0, x_β_0 = 10, 2, .25, .75\n",
    "feasible_points_X,feasible_points_A = [],[]\n",
    "\n",
    "for i in X_grid:\n",
    "    for j in A_grid: \n",
    "        if check(j,a,i,x_α_0,x_β_0):\n",
    "            feasible_points_A.append(j)\n",
    "            feasible_points_X.append(i)"
   ]
  },
  {
   "cell_type": "code",
   "execution_count": 94,
   "id": "86470e0d",
   "metadata": {
    "scrolled": true
   },
   "outputs": [
    {
     "data": {
      "image/png": "[encoded data removed]",
      "text/plain": [
       "<Figure size 432x288 with 1 Axes>"
      ]
     },
     "metadata": {
      "needs_background": "light"
     },
     "output_type": "display_data"
    }
   ],
   "source": [
    "plt.scatter(scatter_X,scatter_A)\n",
    "plt.xlabel('X')\n",
    "plt.ylabel('A')\n",
    "plt.title('Two Phase Region vs. Stress at a given Temp')\n",
    "plt.show()"
   ]
  },
  {
   "cell_type": "code",
   "execution_count": null,
   "id": "762945ef",
   "metadata": {},
   "outputs": [],
   "source": []
  }
 ],
 "metadata": {
  "kernelspec": {
   "display_name": "Python 3 (ipykernel)",
   "language": "python",
   "name": "python3"
  },
  "language_info": {
   "codemirror_mode": {
    "name": "ipython",
    "version": 3
   },
   "file_extension": ".py",
   "mimetype": "text/x-python",
   "name": "python",
   "nbconvert_exporter": "python",
   "pygments_lexer": "ipython3",
   "version": "3.9.12"
  }
 },
 "nbformat": 4,
 "nbformat_minor": 5
}
